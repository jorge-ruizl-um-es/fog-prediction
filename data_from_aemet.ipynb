{
 "cells": [
  {
   "cell_type": "markdown",
   "id": "b662b51c",
   "metadata": {},
   "source": [
    "# Obtención de datos meteorológicos con la API de la AEMET"
   ]
  },
  {
   "cell_type": "markdown",
   "id": "608b2578",
   "metadata": {},
   "source": [
    "Constará de varias funciones para obtener los datos históricos a partir del 22 de junio de la API (en la zona de Cangas de Onís como municipio), y luego las previsiones para los siguientes días (en la zona de montaña de los Picos de Europa). Se construirán algunos dataframe con los que podremos construir un CSV y exportarlo. "
   ]
  },
  {
   "cell_type": "markdown",
   "id": "ec55e2a9",
   "metadata": {},
   "source": [
    "> NOTA: Es necesario proporcionar una API KEY para acceder a la AEMET y otra para acceder a ChatGPT."
   ]
  },
  {
   "cell_type": "code",
   "execution_count": 77,
   "id": "7bee647c",
   "metadata": {},
   "outputs": [],
   "source": [
    "# Paquetes\n",
    "from api_key import api_key\n",
    "from api_key_chatgpt import api_chati\n",
    "import requests\n",
    "import json\n",
    "import os\n",
    "import pandas as pd\n",
    "from datetime import datetime, timedelta, timezone\n",
    "import time"
   ]
  },
  {
   "cell_type": "markdown",
   "id": "029efdc4",
   "metadata": {},
   "source": [
    "## Definición de constantes"
   ]
  },
  {
   "cell_type": "code",
   "execution_count": 78,
   "id": "951d3611",
   "metadata": {},
   "outputs": [],
   "source": [
    "querystring = {\"api_key\": api_key}\n",
    "headers = {\n",
    "\t'cache-control': \"no-cache\"\n",
    "}\n",
    "\n",
    "ID_MUNICIPIO = '33012'  # Cangas de Onís\n",
    "ZONA = 'peu1'  # Zona montañosa Picos de Europa\n",
    "IDEMA = \"1178R\"  # Sotres\n",
    "IDEMA2 = \"1176\"  # Cangas de Onís\n",
    "IDEMA3 = \"1175X\"  # Bulnes\n",
    "hoy = datetime.now(timezone.utc)\n",
    "\n",
    "fecha_inicio = \"2025-06-22T00:00:00UTC\"\n",
    "fecha_fin = \"2025-06-29T00:00:00UTC\"\n",
    "\n",
    "fecha_inicio2 = \"2025-07-01T00:00:00UTC\"\n",
    "fecha_fin2 = (hoy - timedelta(days=4)).strftime(\"%Y-%m-%dT00:00:00UTC\")"
   ]
  },
  {
   "cell_type": "markdown",
   "id": "871fd737",
   "metadata": {},
   "source": [
    "## Obtención de valores climatológicos pasados"
   ]
  },
  {
   "cell_type": "markdown",
   "id": "80ea5439",
   "metadata": {},
   "source": [
    "Esta función usa el endpoint de la AEMET para obtener los valores climatológicos por días observados en una determinada estación, dentro de un rango de días especificado. Devuelve el dataframe con las columnas de interés."
   ]
  },
  {
   "cell_type": "code",
   "execution_count": null,
   "id": "704b040a",
   "metadata": {},
   "outputs": [],
   "source": [
    "def consulta_historicos(inicio: str, fin: str, estacion:str=IDEMA) -> pd.DataFrame | None:\n",
    "\turl = f\"https://opendata.aemet.es/opendata/api/valores/climatologicos/diarios/datos/fechaini/{inicio}/fechafin/{fin}/estacion/{estacion}\"\n",
    "\n",
    "\t# Si la información está ya almacenada, la leemos de un fichero\n",
    "\tif os.path.exists(f\"datos_aemet_historicos_{inicio}.json\"):\n",
    "\t\twith open(f\"datos_aemet_historicos_{inicio}.json\") as f:\n",
    "\t\t\tprediccion = json.load(f)\n",
    "\telse:\n",
    "\t\t# Si no, hacemos la petición y guardamos la información devuelta\n",
    "\t\tresponse = requests.request(\"GET\", url, headers=headers, params=querystring)\n",
    "\n",
    "\t\tif response.status_code == 200:\n",
    "\n",
    "\t\t\t# Descarga de los datos reales\n",
    "\t\t\tdatos = response.json()\n",
    "\t\t\turl_datos = datos[\"datos\"]\n",
    "\t\t\t# print(url_datos)\n",
    "\t\t\tresponse_datos = requests.request(\"GET\", url_datos, headers=headers)\n",
    "\n",
    "\t\t\tif response_datos.status_code == 200:\n",
    "\t\t\t\tprediccion = response_datos.json()\n",
    "\n",
    "\t\t\t\t# Almacenar la información devuelta en un fichero\n",
    "\t\t\t\twith open(f\"datos_aemet_historicos_{inicio}.json\", \"w\") as f:\n",
    "\t\t\t\t\tjson.dump(prediccion, f)\n",
    "\n",
    "\tif prediccion:\n",
    "\t\t# Convertir a dataframe y poner la fecha en el índice\n",
    "\t\tdf = pd.DataFrame(prediccion)\n",
    "\t\tif \"fecha\" in df.columns:\n",
    "\t\t\tdf[\"fecha\"] = pd.to_datetime(df[\"fecha\"])\n",
    "\n",
    "\t\t# Eliminar columnas que no nos interesan\n",
    "\t\tdf_nuevo = df.drop(columns=[\"indicativo\", \"nombre\", \"provincia\", \"altitud\", \"horatmin\", \"horatmax\", \"tmed\", \"horaracha\", \"horaPresMax\", \"horaPresMin\", \"horaHrMax\", \"horaHrMin\"])\n",
    "\t\t\n",
    "\t\treturn df_nuevo"
   ]
  },
  {
   "cell_type": "code",
   "execution_count": null,
   "id": "1c79d255",
   "metadata": {},
   "outputs": [
    {
     "name": "stdout",
     "output_type": "stream",
     "text": [
      "        fecha  prec  tmin  tmax dir velmedia racha presMax presMin hrMedia hrMax hrMin\n",
      "0  2025-06-22   0,0  11,9  20,4  15      1,4   7,2   884,2   881,9      99   100    61\n",
      "1  2025-06-23   2,0  11,7  25,0  24      2,5  16,1   884,0   882,2      64   100    40\n",
      "2  2025-06-24  23,8  13,7  26,6  23      5,6  21,7   884,7   878,7      54    94    34\n",
      "3  2025-06-25   2,0  11,5  19,9  12      3,6  14,7   882,5   875,5      86   100    50\n",
      "4  2025-06-26   0,0  11,4  18,2  07      1,4   6,1   886,9   882,5      95   100    80\n",
      "5  2025-06-27   0,0  14,8  23,5  06      2,5   7,5   889,2   886,2      58    88    51\n",
      "6  2025-06-28   0,0  16,7  26,7  06      2,8   6,7   889,0   887,9      56    90    46\n",
      "7  2025-06-29   6,0  14,6  28,9  26      1,4  22,2   888,0   884,5      43    85    28\n",
      "8  2025-07-01   0,4  14,4  29,1  10      2,2   6,9   882,9   880,4      61   100    30\n",
      "9  2025-07-02   5,8  11,4  16,0  08      3,3  10,0   885,9   879,9     100   100    94\n",
      "10 2025-07-03  30,6  11,0  17,0  10      3,6  11,7   889,3   884,9     100   100    70\n",
      "11 2025-07-04   0,0  11,3  22,8  08      4,7   9,4   887,3   885,4      75   100    53\n"
     ]
    }
   ],
   "source": [
    "# Cambio en la configuración de pandas para mostrar el dataframe\n",
    "pd.set_option('display.max_columns', None)      # Muestra todas las columnas\n",
    "pd.set_option('display.width', None)            # Usa el ancho completo del terminal o Jupyter\n",
    "pd.set_option('display.expand_frame_repr', False)  # Evita que pandas divida líneas\n",
    "\n",
    "df_pasado = consulta_historicos(fecha_inicio, fecha_fin)\n",
    "time.sleep(2)\n",
    "df_pasado2 = consulta_historicos(fecha_inicio2, fecha_fin2)\n",
    "\n",
    "# Concatenar ambos dataframes\n",
    "df_pasado_completo = pd.concat([df_pasado, df_pasado2], ignore_index=True)\n",
    "print(df_pasado_completo)"
   ]
  },
  {
   "cell_type": "markdown",
   "id": "b635a380",
   "metadata": {},
   "source": [
    "Una vez tenemos estos datos, vamos a completarlos con la información obtenida en la observación directa y en las previsiones de esos días. Esto tendrá que hacerse manualmente. \n",
    " \n",
    "> NOTA: Si se quiere usar este programa para otros fines y se buscan otros datos u otras fechas, habrá que rellenar manualmente estas columnas o dejarlas vacías con comillas."
   ]
  },
  {
   "cell_type": "code",
   "execution_count": 85,
   "id": "799a67d9",
   "metadata": {},
   "outputs": [
    {
     "name": "stdout",
     "output_type": "stream",
     "text": [
      "        fecha  prec  tmin  tmax dir velmedia racha presMax presMin hrMedia hrMax hrMin altonubes  nubosidad     lluvia SUBIR\n",
      "0  2025-06-22   0,0  11,9  20,4  15      1,4   7,2   884,2   881,9      99   100    61       low  abundante    posible    NO\n",
      "1  2025-06-23   2,0  11,7  25,0  24      2,5  16,1   884,0   882,2      64   100    40                                    NO\n",
      "2  2025-06-24  23,8  13,7  26,6  23      5,6  21,7   884,7   878,7      54    94    34       mid     escasa  chubascos    SI\n",
      "3  2025-06-25   2,0  11,5  19,9  12      3,6  14,7   882,5   875,5      86   100    50            abundante  chubascos    SI\n",
      "4  2025-06-26   0,0  11,4  18,2  07      1,4   6,1   886,9   882,5      95   100    80       low     escasa         no    NO\n",
      "5  2025-06-27   0,0  14,8  23,5  06      2,5   7,5   889,2   886,2      58    88    51       mid     escasa         no    SI\n",
      "6  2025-06-28   0,0  16,7  26,7  06      2,8   6,7   889,0   887,9      56    90    46       mid      media         no    SI\n",
      "7  2025-06-29   6,0  14,6  28,9  26      1,4  22,2   888,0   884,5      43    85    28       mid     escasa    posible    SI\n",
      "8  2025-07-01   0,4  14,4  29,1  10      2,2   6,9   882,9   880,4      61   100    30       low  abundante    posible    NO\n",
      "9  2025-07-02   5,8  11,4  16,0  08      3,3  10,0   885,9   879,9     100   100    94       low  abundante    posible    NO\n",
      "10 2025-07-03  30,6  11,0  17,0  10      3,6  11,7   889,3   884,9     100   100    70       low  abundante    posible    NO\n",
      "11 2025-07-04   0,0  11,3  22,8  08      4,7   9,4   887,3   885,4      75   100    53       low  abundante    posible    NO\n"
     ]
    }
   ],
   "source": [
    "if df_pasado_completo is not None:\n",
    "\t# low/high/mid\n",
    "\tdf_pasado_completo[\"altonubes\"] = [\"low\", \"\", \"mid\", \"\", \"low\", \"mid\", \"mid\", \"mid\", \"low\", \"low\", \"low\", \"low\"]      \n",
    "\n",
    "\t# abundante/escasa/media\n",
    "\tdf_pasado_completo[\"nubosidad\"] = [\"abundante\", \"\",\"escasa\", \"abundante\", \"escasa\", \"escasa\", \"media\", \"escasa\", \"abundante\", \"abundante\", \"abundante\", \"abundante\"] \n",
    "\n",
    "\t# chubascos/posible/no\n",
    "\tdf_pasado_completo[\"lluvia\"] = [\"posible\", \"\", \"chubascos\", \"chubascos\", \"no\", \"no\", \"no\", \"posible\", \"posible\", \"posible\", \"posible\", \"posible\"]\n",
    "\n",
    "\t# SI/NO  (en base a las imágenes finales)\n",
    "\tdf_pasado_completo[\"SUBIR\"] = [\"NO\", \"NO\", \"SI\", \"SI\", \"NO\", \"SI\", \"SI\", \"SI\", \"NO\", \"NO\", \"NO\", \"NO\"]  \n",
    "\n",
    "\tprint(df_pasado_completo)"
   ]
  },
  {
   "cell_type": "markdown",
   "id": "6fc884e6",
   "metadata": {},
   "source": [
    "## Obtención de previsiones en zona de montaña"
   ]
  },
  {
   "cell_type": "markdown",
   "id": "75482eef",
   "metadata": {},
   "source": [
    "Esta función devuelve un dataframe con las previsiones de los próximos 4 días (desde hoy hasta dentro de 3 días). Devuelve también un dataframe con la información."
   ]
  },
  {
   "cell_type": "markdown",
   "id": "93d43c90",
   "metadata": {},
   "source": [
    "Como la API de la AEMET en este caso devuelve algunos datos en forma de descripción textual, conviene procesar esa descripción para imputar el valor de las variables con las que trabajamos. Para ello, emplearemos la API de ChatGPT, integrando el LLM en la aplicación, para poder enviarle un prompt y evalúe el texto que le pasemos, transformando su significado en el valor que tomen las variables categóricas que manejamos. "
   ]
  },
  {
   "cell_type": "markdown",
   "id": "dfb04941",
   "metadata": {},
   "source": [
    "### Funciones para procesar descripciones con ChatGPT"
   ]
  },
  {
   "cell_type": "code",
   "execution_count": null,
   "id": "1618b2df",
   "metadata": {},
   "outputs": [],
   "source": [
    "# Paquetes\n",
    "from openai import OpenAI"
   ]
  },
  {
   "cell_type": "markdown",
   "id": "364bd606",
   "metadata": {},
   "source": [
    "#### 1. Procesamiento del texto sobre la nubosidad:"
   ]
  },
  {
   "cell_type": "code",
   "execution_count": null,
   "id": "363122fb",
   "metadata": {},
   "outputs": [
    {
     "ename": "NotFoundError",
     "evalue": "Error code: 404 - {'error': {'message': 'The model `gpt-4` does not exist or you do not have access to it.', 'type': 'invalid_request_error', 'param': None, 'code': 'model_not_found'}}",
     "output_type": "error",
     "traceback": [
      "\u001b[0;31m---------------------------------------------------------------------------\u001b[0m",
      "\u001b[0;31mNotFoundError\u001b[0m                             Traceback (most recent call last)",
      "Cell \u001b[0;32mIn[46], line 14\u001b[0m\n\u001b[1;32m      5\u001b[0m \tresponse \u001b[38;5;241m=\u001b[39m client\u001b[38;5;241m.\u001b[39mchat\u001b[38;5;241m.\u001b[39mcompletions\u001b[38;5;241m.\u001b[39mcreate(\n\u001b[1;32m      6\u001b[0m \t\tmodel \u001b[38;5;241m=\u001b[39m \u001b[38;5;124m\"\u001b[39m\u001b[38;5;124mgpt-4\u001b[39m\u001b[38;5;124m\"\u001b[39m,\n\u001b[1;32m      7\u001b[0m \t\tmessages \u001b[38;5;241m=\u001b[39m [\n\u001b[1;32m      8\u001b[0m \t\t\t{\u001b[38;5;124m\"\u001b[39m\u001b[38;5;124mrole\u001b[39m\u001b[38;5;124m\"\u001b[39m: \u001b[38;5;124m\"\u001b[39m\u001b[38;5;124muser\u001b[39m\u001b[38;5;124m\"\u001b[39m, \u001b[38;5;124m\"\u001b[39m\u001b[38;5;124mcontent\u001b[39m\u001b[38;5;124m\"\u001b[39m: prompt}\n\u001b[1;32m      9\u001b[0m \t\t]\n\u001b[1;32m     10\u001b[0m \t)\n\u001b[1;32m     12\u001b[0m \t\u001b[38;5;28;01mreturn\u001b[39;00m response\u001b[38;5;241m.\u001b[39mchoices[\u001b[38;5;241m0\u001b[39m]\u001b[38;5;241m.\u001b[39mmessage\u001b[38;5;241m.\u001b[39mcontent\n\u001b[0;32m---> 14\u001b[0m \u001b[38;5;28mprint\u001b[39m(\u001b[43mprocesa_nubes\u001b[49m\u001b[43m(\u001b[49m\u001b[38;5;124;43m\"\u001b[39;49m\u001b[38;5;124;43mAbundante nubosidad baja en el norte, que podrá reducir la visibilidad localmente. En el resto, poco nuboso o despejado, aumentando la nubosidad por la tarde con el desarrollo de nubes de evolución diurna\u001b[39;49m\u001b[38;5;124;43m\"\u001b[39;49m\u001b[43m)\u001b[49m)\n",
      "Cell \u001b[0;32mIn[46], line 5\u001b[0m, in \u001b[0;36mprocesa_nubes\u001b[0;34m(text)\u001b[0m\n\u001b[1;32m      2\u001b[0m client \u001b[38;5;241m=\u001b[39m OpenAI(api_key\u001b[38;5;241m=\u001b[39mapi_chati)\n\u001b[1;32m      3\u001b[0m prompt \u001b[38;5;241m=\u001b[39m \u001b[38;5;124mf\u001b[39m\u001b[38;5;124m\"\u001b[39m\u001b[38;5;124mDado la siguiente descripción sobre la nubosidad de un lugar: \u001b[39m\u001b[38;5;124m'\u001b[39m\u001b[38;5;132;01m{\u001b[39;00mtext\u001b[38;5;132;01m}\u001b[39;00m\u001b[38;5;124m'\u001b[39m\u001b[38;5;124m. Devuelve un JSON con los campos \u001b[39m\u001b[38;5;124m'\u001b[39m\u001b[38;5;124maltonubes\u001b[39m\u001b[38;5;124m'\u001b[39m\u001b[38;5;124m que tome los valores \u001b[39m\u001b[38;5;124m'\u001b[39m\u001b[38;5;124mlow\u001b[39m\u001b[38;5;124m'\u001b[39m\u001b[38;5;124m, \u001b[39m\u001b[38;5;124m'\u001b[39m\u001b[38;5;124mmid\u001b[39m\u001b[38;5;124m'\u001b[39m\u001b[38;5;124m, o \u001b[39m\u001b[38;5;124m'\u001b[39m\u001b[38;5;124mhigh\u001b[39m\u001b[38;5;124m'\u001b[39m\u001b[38;5;124m dependiendo de la altura de las nubes; y \u001b[39m\u001b[38;5;124m'\u001b[39m\u001b[38;5;124mnubosidad\u001b[39m\u001b[38;5;124m'\u001b[39m\u001b[38;5;124m con los valores \u001b[39m\u001b[38;5;124m'\u001b[39m\u001b[38;5;124mescasa\u001b[39m\u001b[38;5;124m'\u001b[39m\u001b[38;5;124m, \u001b[39m\u001b[38;5;124m'\u001b[39m\u001b[38;5;124mmedia\u001b[39m\u001b[38;5;124m'\u001b[39m\u001b[38;5;124m o \u001b[39m\u001b[38;5;124m'\u001b[39m\u001b[38;5;124mabundante\u001b[39m\u001b[38;5;124m'\u001b[39m\u001b[38;5;124m dependiendo de la cantidad de nubes que diga el texto que puede haber. Responde únicamente con el JSON.\u001b[39m\u001b[38;5;124m\"\u001b[39m\n\u001b[0;32m----> 5\u001b[0m response \u001b[38;5;241m=\u001b[39m \u001b[43mclient\u001b[49m\u001b[38;5;241;43m.\u001b[39;49m\u001b[43mchat\u001b[49m\u001b[38;5;241;43m.\u001b[39;49m\u001b[43mcompletions\u001b[49m\u001b[38;5;241;43m.\u001b[39;49m\u001b[43mcreate\u001b[49m\u001b[43m(\u001b[49m\n\u001b[1;32m      6\u001b[0m \u001b[43m\t\u001b[49m\u001b[43mmodel\u001b[49m\u001b[43m \u001b[49m\u001b[38;5;241;43m=\u001b[39;49m\u001b[43m \u001b[49m\u001b[38;5;124;43m\"\u001b[39;49m\u001b[38;5;124;43mgpt-4\u001b[39;49m\u001b[38;5;124;43m\"\u001b[39;49m\u001b[43m,\u001b[49m\n\u001b[1;32m      7\u001b[0m \u001b[43m\t\u001b[49m\u001b[43mmessages\u001b[49m\u001b[43m \u001b[49m\u001b[38;5;241;43m=\u001b[39;49m\u001b[43m \u001b[49m\u001b[43m[\u001b[49m\n\u001b[1;32m      8\u001b[0m \u001b[43m\t\t\u001b[49m\u001b[43m{\u001b[49m\u001b[38;5;124;43m\"\u001b[39;49m\u001b[38;5;124;43mrole\u001b[39;49m\u001b[38;5;124;43m\"\u001b[39;49m\u001b[43m:\u001b[49m\u001b[43m \u001b[49m\u001b[38;5;124;43m\"\u001b[39;49m\u001b[38;5;124;43muser\u001b[39;49m\u001b[38;5;124;43m\"\u001b[39;49m\u001b[43m,\u001b[49m\u001b[43m \u001b[49m\u001b[38;5;124;43m\"\u001b[39;49m\u001b[38;5;124;43mcontent\u001b[39;49m\u001b[38;5;124;43m\"\u001b[39;49m\u001b[43m:\u001b[49m\u001b[43m \u001b[49m\u001b[43mprompt\u001b[49m\u001b[43m}\u001b[49m\n\u001b[1;32m      9\u001b[0m \u001b[43m\t\u001b[49m\u001b[43m]\u001b[49m\n\u001b[1;32m     10\u001b[0m \u001b[43m\u001b[49m\u001b[43m)\u001b[49m\n\u001b[1;32m     12\u001b[0m \u001b[38;5;28;01mreturn\u001b[39;00m response\u001b[38;5;241m.\u001b[39mchoices[\u001b[38;5;241m0\u001b[39m]\u001b[38;5;241m.\u001b[39mmessage\u001b[38;5;241m.\u001b[39mcontent\n",
      "File \u001b[0;32m~/.pyenv/versions/3.11.9/lib/python3.11/site-packages/openai/_utils/_utils.py:287\u001b[0m, in \u001b[0;36mrequired_args.<locals>.inner.<locals>.wrapper\u001b[0;34m(*args, **kwargs)\u001b[0m\n\u001b[1;32m    285\u001b[0m             msg \u001b[38;5;241m=\u001b[39m \u001b[38;5;124mf\u001b[39m\u001b[38;5;124m\"\u001b[39m\u001b[38;5;124mMissing required argument: \u001b[39m\u001b[38;5;132;01m{\u001b[39;00mquote(missing[\u001b[38;5;241m0\u001b[39m])\u001b[38;5;132;01m}\u001b[39;00m\u001b[38;5;124m\"\u001b[39m\n\u001b[1;32m    286\u001b[0m     \u001b[38;5;28;01mraise\u001b[39;00m \u001b[38;5;167;01mTypeError\u001b[39;00m(msg)\n\u001b[0;32m--> 287\u001b[0m \u001b[38;5;28;01mreturn\u001b[39;00m \u001b[43mfunc\u001b[49m\u001b[43m(\u001b[49m\u001b[38;5;241;43m*\u001b[39;49m\u001b[43margs\u001b[49m\u001b[43m,\u001b[49m\u001b[43m \u001b[49m\u001b[38;5;241;43m*\u001b[39;49m\u001b[38;5;241;43m*\u001b[39;49m\u001b[43mkwargs\u001b[49m\u001b[43m)\u001b[49m\n",
      "File \u001b[0;32m~/.pyenv/versions/3.11.9/lib/python3.11/site-packages/openai/resources/chat/completions/completions.py:1087\u001b[0m, in \u001b[0;36mCompletions.create\u001b[0;34m(self, messages, model, audio, frequency_penalty, function_call, functions, logit_bias, logprobs, max_completion_tokens, max_tokens, metadata, modalities, n, parallel_tool_calls, prediction, presence_penalty, reasoning_effort, response_format, seed, service_tier, stop, store, stream, stream_options, temperature, tool_choice, tools, top_logprobs, top_p, user, web_search_options, extra_headers, extra_query, extra_body, timeout)\u001b[0m\n\u001b[1;32m   1044\u001b[0m \u001b[38;5;129m@required_args\u001b[39m([\u001b[38;5;124m\"\u001b[39m\u001b[38;5;124mmessages\u001b[39m\u001b[38;5;124m\"\u001b[39m, \u001b[38;5;124m\"\u001b[39m\u001b[38;5;124mmodel\u001b[39m\u001b[38;5;124m\"\u001b[39m], [\u001b[38;5;124m\"\u001b[39m\u001b[38;5;124mmessages\u001b[39m\u001b[38;5;124m\"\u001b[39m, \u001b[38;5;124m\"\u001b[39m\u001b[38;5;124mmodel\u001b[39m\u001b[38;5;124m\"\u001b[39m, \u001b[38;5;124m\"\u001b[39m\u001b[38;5;124mstream\u001b[39m\u001b[38;5;124m\"\u001b[39m])\n\u001b[1;32m   1045\u001b[0m \u001b[38;5;28;01mdef\u001b[39;00m \u001b[38;5;21mcreate\u001b[39m(\n\u001b[1;32m   1046\u001b[0m     \u001b[38;5;28mself\u001b[39m,\n\u001b[0;32m   (...)\u001b[0m\n\u001b[1;32m   1084\u001b[0m     timeout: \u001b[38;5;28mfloat\u001b[39m \u001b[38;5;241m|\u001b[39m httpx\u001b[38;5;241m.\u001b[39mTimeout \u001b[38;5;241m|\u001b[39m \u001b[38;5;28;01mNone\u001b[39;00m \u001b[38;5;241m|\u001b[39m NotGiven \u001b[38;5;241m=\u001b[39m NOT_GIVEN,\n\u001b[1;32m   1085\u001b[0m ) \u001b[38;5;241m-\u001b[39m\u001b[38;5;241m>\u001b[39m ChatCompletion \u001b[38;5;241m|\u001b[39m Stream[ChatCompletionChunk]:\n\u001b[1;32m   1086\u001b[0m     validate_response_format(response_format)\n\u001b[0;32m-> 1087\u001b[0m     \u001b[38;5;28;01mreturn\u001b[39;00m \u001b[38;5;28;43mself\u001b[39;49m\u001b[38;5;241;43m.\u001b[39;49m\u001b[43m_post\u001b[49m\u001b[43m(\u001b[49m\n\u001b[1;32m   1088\u001b[0m \u001b[43m        \u001b[49m\u001b[38;5;124;43m\"\u001b[39;49m\u001b[38;5;124;43m/chat/completions\u001b[39;49m\u001b[38;5;124;43m\"\u001b[39;49m\u001b[43m,\u001b[49m\n\u001b[1;32m   1089\u001b[0m \u001b[43m        \u001b[49m\u001b[43mbody\u001b[49m\u001b[38;5;241;43m=\u001b[39;49m\u001b[43mmaybe_transform\u001b[49m\u001b[43m(\u001b[49m\n\u001b[1;32m   1090\u001b[0m \u001b[43m            \u001b[49m\u001b[43m{\u001b[49m\n\u001b[1;32m   1091\u001b[0m \u001b[43m                \u001b[49m\u001b[38;5;124;43m\"\u001b[39;49m\u001b[38;5;124;43mmessages\u001b[39;49m\u001b[38;5;124;43m\"\u001b[39;49m\u001b[43m:\u001b[49m\u001b[43m \u001b[49m\u001b[43mmessages\u001b[49m\u001b[43m,\u001b[49m\n\u001b[1;32m   1092\u001b[0m \u001b[43m                \u001b[49m\u001b[38;5;124;43m\"\u001b[39;49m\u001b[38;5;124;43mmodel\u001b[39;49m\u001b[38;5;124;43m\"\u001b[39;49m\u001b[43m:\u001b[49m\u001b[43m \u001b[49m\u001b[43mmodel\u001b[49m\u001b[43m,\u001b[49m\n\u001b[1;32m   1093\u001b[0m \u001b[43m                \u001b[49m\u001b[38;5;124;43m\"\u001b[39;49m\u001b[38;5;124;43maudio\u001b[39;49m\u001b[38;5;124;43m\"\u001b[39;49m\u001b[43m:\u001b[49m\u001b[43m \u001b[49m\u001b[43maudio\u001b[49m\u001b[43m,\u001b[49m\n\u001b[1;32m   1094\u001b[0m \u001b[43m                \u001b[49m\u001b[38;5;124;43m\"\u001b[39;49m\u001b[38;5;124;43mfrequency_penalty\u001b[39;49m\u001b[38;5;124;43m\"\u001b[39;49m\u001b[43m:\u001b[49m\u001b[43m \u001b[49m\u001b[43mfrequency_penalty\u001b[49m\u001b[43m,\u001b[49m\n\u001b[1;32m   1095\u001b[0m \u001b[43m                \u001b[49m\u001b[38;5;124;43m\"\u001b[39;49m\u001b[38;5;124;43mfunction_call\u001b[39;49m\u001b[38;5;124;43m\"\u001b[39;49m\u001b[43m:\u001b[49m\u001b[43m \u001b[49m\u001b[43mfunction_call\u001b[49m\u001b[43m,\u001b[49m\n\u001b[1;32m   1096\u001b[0m \u001b[43m                \u001b[49m\u001b[38;5;124;43m\"\u001b[39;49m\u001b[38;5;124;43mfunctions\u001b[39;49m\u001b[38;5;124;43m\"\u001b[39;49m\u001b[43m:\u001b[49m\u001b[43m \u001b[49m\u001b[43mfunctions\u001b[49m\u001b[43m,\u001b[49m\n\u001b[1;32m   1097\u001b[0m \u001b[43m                \u001b[49m\u001b[38;5;124;43m\"\u001b[39;49m\u001b[38;5;124;43mlogit_bias\u001b[39;49m\u001b[38;5;124;43m\"\u001b[39;49m\u001b[43m:\u001b[49m\u001b[43m \u001b[49m\u001b[43mlogit_bias\u001b[49m\u001b[43m,\u001b[49m\n\u001b[1;32m   1098\u001b[0m \u001b[43m                \u001b[49m\u001b[38;5;124;43m\"\u001b[39;49m\u001b[38;5;124;43mlogprobs\u001b[39;49m\u001b[38;5;124;43m\"\u001b[39;49m\u001b[43m:\u001b[49m\u001b[43m \u001b[49m\u001b[43mlogprobs\u001b[49m\u001b[43m,\u001b[49m\n\u001b[1;32m   1099\u001b[0m \u001b[43m                \u001b[49m\u001b[38;5;124;43m\"\u001b[39;49m\u001b[38;5;124;43mmax_completion_tokens\u001b[39;49m\u001b[38;5;124;43m\"\u001b[39;49m\u001b[43m:\u001b[49m\u001b[43m \u001b[49m\u001b[43mmax_completion_tokens\u001b[49m\u001b[43m,\u001b[49m\n\u001b[1;32m   1100\u001b[0m \u001b[43m                \u001b[49m\u001b[38;5;124;43m\"\u001b[39;49m\u001b[38;5;124;43mmax_tokens\u001b[39;49m\u001b[38;5;124;43m\"\u001b[39;49m\u001b[43m:\u001b[49m\u001b[43m \u001b[49m\u001b[43mmax_tokens\u001b[49m\u001b[43m,\u001b[49m\n\u001b[1;32m   1101\u001b[0m \u001b[43m                \u001b[49m\u001b[38;5;124;43m\"\u001b[39;49m\u001b[38;5;124;43mmetadata\u001b[39;49m\u001b[38;5;124;43m\"\u001b[39;49m\u001b[43m:\u001b[49m\u001b[43m \u001b[49m\u001b[43mmetadata\u001b[49m\u001b[43m,\u001b[49m\n\u001b[1;32m   1102\u001b[0m \u001b[43m                \u001b[49m\u001b[38;5;124;43m\"\u001b[39;49m\u001b[38;5;124;43mmodalities\u001b[39;49m\u001b[38;5;124;43m\"\u001b[39;49m\u001b[43m:\u001b[49m\u001b[43m \u001b[49m\u001b[43mmodalities\u001b[49m\u001b[43m,\u001b[49m\n\u001b[1;32m   1103\u001b[0m \u001b[43m                \u001b[49m\u001b[38;5;124;43m\"\u001b[39;49m\u001b[38;5;124;43mn\u001b[39;49m\u001b[38;5;124;43m\"\u001b[39;49m\u001b[43m:\u001b[49m\u001b[43m \u001b[49m\u001b[43mn\u001b[49m\u001b[43m,\u001b[49m\n\u001b[1;32m   1104\u001b[0m \u001b[43m                \u001b[49m\u001b[38;5;124;43m\"\u001b[39;49m\u001b[38;5;124;43mparallel_tool_calls\u001b[39;49m\u001b[38;5;124;43m\"\u001b[39;49m\u001b[43m:\u001b[49m\u001b[43m \u001b[49m\u001b[43mparallel_tool_calls\u001b[49m\u001b[43m,\u001b[49m\n\u001b[1;32m   1105\u001b[0m \u001b[43m                \u001b[49m\u001b[38;5;124;43m\"\u001b[39;49m\u001b[38;5;124;43mprediction\u001b[39;49m\u001b[38;5;124;43m\"\u001b[39;49m\u001b[43m:\u001b[49m\u001b[43m \u001b[49m\u001b[43mprediction\u001b[49m\u001b[43m,\u001b[49m\n\u001b[1;32m   1106\u001b[0m \u001b[43m                \u001b[49m\u001b[38;5;124;43m\"\u001b[39;49m\u001b[38;5;124;43mpresence_penalty\u001b[39;49m\u001b[38;5;124;43m\"\u001b[39;49m\u001b[43m:\u001b[49m\u001b[43m \u001b[49m\u001b[43mpresence_penalty\u001b[49m\u001b[43m,\u001b[49m\n\u001b[1;32m   1107\u001b[0m \u001b[43m                \u001b[49m\u001b[38;5;124;43m\"\u001b[39;49m\u001b[38;5;124;43mreasoning_effort\u001b[39;49m\u001b[38;5;124;43m\"\u001b[39;49m\u001b[43m:\u001b[49m\u001b[43m \u001b[49m\u001b[43mreasoning_effort\u001b[49m\u001b[43m,\u001b[49m\n\u001b[1;32m   1108\u001b[0m \u001b[43m                \u001b[49m\u001b[38;5;124;43m\"\u001b[39;49m\u001b[38;5;124;43mresponse_format\u001b[39;49m\u001b[38;5;124;43m\"\u001b[39;49m\u001b[43m:\u001b[49m\u001b[43m \u001b[49m\u001b[43mresponse_format\u001b[49m\u001b[43m,\u001b[49m\n\u001b[1;32m   1109\u001b[0m \u001b[43m                \u001b[49m\u001b[38;5;124;43m\"\u001b[39;49m\u001b[38;5;124;43mseed\u001b[39;49m\u001b[38;5;124;43m\"\u001b[39;49m\u001b[43m:\u001b[49m\u001b[43m \u001b[49m\u001b[43mseed\u001b[49m\u001b[43m,\u001b[49m\n\u001b[1;32m   1110\u001b[0m \u001b[43m                \u001b[49m\u001b[38;5;124;43m\"\u001b[39;49m\u001b[38;5;124;43mservice_tier\u001b[39;49m\u001b[38;5;124;43m\"\u001b[39;49m\u001b[43m:\u001b[49m\u001b[43m \u001b[49m\u001b[43mservice_tier\u001b[49m\u001b[43m,\u001b[49m\n\u001b[1;32m   1111\u001b[0m \u001b[43m                \u001b[49m\u001b[38;5;124;43m\"\u001b[39;49m\u001b[38;5;124;43mstop\u001b[39;49m\u001b[38;5;124;43m\"\u001b[39;49m\u001b[43m:\u001b[49m\u001b[43m \u001b[49m\u001b[43mstop\u001b[49m\u001b[43m,\u001b[49m\n\u001b[1;32m   1112\u001b[0m \u001b[43m                \u001b[49m\u001b[38;5;124;43m\"\u001b[39;49m\u001b[38;5;124;43mstore\u001b[39;49m\u001b[38;5;124;43m\"\u001b[39;49m\u001b[43m:\u001b[49m\u001b[43m \u001b[49m\u001b[43mstore\u001b[49m\u001b[43m,\u001b[49m\n\u001b[1;32m   1113\u001b[0m \u001b[43m                \u001b[49m\u001b[38;5;124;43m\"\u001b[39;49m\u001b[38;5;124;43mstream\u001b[39;49m\u001b[38;5;124;43m\"\u001b[39;49m\u001b[43m:\u001b[49m\u001b[43m \u001b[49m\u001b[43mstream\u001b[49m\u001b[43m,\u001b[49m\n\u001b[1;32m   1114\u001b[0m \u001b[43m                \u001b[49m\u001b[38;5;124;43m\"\u001b[39;49m\u001b[38;5;124;43mstream_options\u001b[39;49m\u001b[38;5;124;43m\"\u001b[39;49m\u001b[43m:\u001b[49m\u001b[43m \u001b[49m\u001b[43mstream_options\u001b[49m\u001b[43m,\u001b[49m\n\u001b[1;32m   1115\u001b[0m \u001b[43m                \u001b[49m\u001b[38;5;124;43m\"\u001b[39;49m\u001b[38;5;124;43mtemperature\u001b[39;49m\u001b[38;5;124;43m\"\u001b[39;49m\u001b[43m:\u001b[49m\u001b[43m \u001b[49m\u001b[43mtemperature\u001b[49m\u001b[43m,\u001b[49m\n\u001b[1;32m   1116\u001b[0m \u001b[43m                \u001b[49m\u001b[38;5;124;43m\"\u001b[39;49m\u001b[38;5;124;43mtool_choice\u001b[39;49m\u001b[38;5;124;43m\"\u001b[39;49m\u001b[43m:\u001b[49m\u001b[43m \u001b[49m\u001b[43mtool_choice\u001b[49m\u001b[43m,\u001b[49m\n\u001b[1;32m   1117\u001b[0m \u001b[43m                \u001b[49m\u001b[38;5;124;43m\"\u001b[39;49m\u001b[38;5;124;43mtools\u001b[39;49m\u001b[38;5;124;43m\"\u001b[39;49m\u001b[43m:\u001b[49m\u001b[43m \u001b[49m\u001b[43mtools\u001b[49m\u001b[43m,\u001b[49m\n\u001b[1;32m   1118\u001b[0m \u001b[43m                \u001b[49m\u001b[38;5;124;43m\"\u001b[39;49m\u001b[38;5;124;43mtop_logprobs\u001b[39;49m\u001b[38;5;124;43m\"\u001b[39;49m\u001b[43m:\u001b[49m\u001b[43m \u001b[49m\u001b[43mtop_logprobs\u001b[49m\u001b[43m,\u001b[49m\n\u001b[1;32m   1119\u001b[0m \u001b[43m                \u001b[49m\u001b[38;5;124;43m\"\u001b[39;49m\u001b[38;5;124;43mtop_p\u001b[39;49m\u001b[38;5;124;43m\"\u001b[39;49m\u001b[43m:\u001b[49m\u001b[43m \u001b[49m\u001b[43mtop_p\u001b[49m\u001b[43m,\u001b[49m\n\u001b[1;32m   1120\u001b[0m \u001b[43m                \u001b[49m\u001b[38;5;124;43m\"\u001b[39;49m\u001b[38;5;124;43muser\u001b[39;49m\u001b[38;5;124;43m\"\u001b[39;49m\u001b[43m:\u001b[49m\u001b[43m \u001b[49m\u001b[43muser\u001b[49m\u001b[43m,\u001b[49m\n\u001b[1;32m   1121\u001b[0m \u001b[43m                \u001b[49m\u001b[38;5;124;43m\"\u001b[39;49m\u001b[38;5;124;43mweb_search_options\u001b[39;49m\u001b[38;5;124;43m\"\u001b[39;49m\u001b[43m:\u001b[49m\u001b[43m \u001b[49m\u001b[43mweb_search_options\u001b[49m\u001b[43m,\u001b[49m\n\u001b[1;32m   1122\u001b[0m \u001b[43m            \u001b[49m\u001b[43m}\u001b[49m\u001b[43m,\u001b[49m\n\u001b[1;32m   1123\u001b[0m \u001b[43m            \u001b[49m\u001b[43mcompletion_create_params\u001b[49m\u001b[38;5;241;43m.\u001b[39;49m\u001b[43mCompletionCreateParamsStreaming\u001b[49m\n\u001b[1;32m   1124\u001b[0m \u001b[43m            \u001b[49m\u001b[38;5;28;43;01mif\u001b[39;49;00m\u001b[43m \u001b[49m\u001b[43mstream\u001b[49m\n\u001b[1;32m   1125\u001b[0m \u001b[43m            \u001b[49m\u001b[38;5;28;43;01melse\u001b[39;49;00m\u001b[43m \u001b[49m\u001b[43mcompletion_create_params\u001b[49m\u001b[38;5;241;43m.\u001b[39;49m\u001b[43mCompletionCreateParamsNonStreaming\u001b[49m\u001b[43m,\u001b[49m\n\u001b[1;32m   1126\u001b[0m \u001b[43m        \u001b[49m\u001b[43m)\u001b[49m\u001b[43m,\u001b[49m\n\u001b[1;32m   1127\u001b[0m \u001b[43m        \u001b[49m\u001b[43moptions\u001b[49m\u001b[38;5;241;43m=\u001b[39;49m\u001b[43mmake_request_options\u001b[49m\u001b[43m(\u001b[49m\n\u001b[1;32m   1128\u001b[0m \u001b[43m            \u001b[49m\u001b[43mextra_headers\u001b[49m\u001b[38;5;241;43m=\u001b[39;49m\u001b[43mextra_headers\u001b[49m\u001b[43m,\u001b[49m\u001b[43m \u001b[49m\u001b[43mextra_query\u001b[49m\u001b[38;5;241;43m=\u001b[39;49m\u001b[43mextra_query\u001b[49m\u001b[43m,\u001b[49m\u001b[43m \u001b[49m\u001b[43mextra_body\u001b[49m\u001b[38;5;241;43m=\u001b[39;49m\u001b[43mextra_body\u001b[49m\u001b[43m,\u001b[49m\u001b[43m \u001b[49m\u001b[43mtimeout\u001b[49m\u001b[38;5;241;43m=\u001b[39;49m\u001b[43mtimeout\u001b[49m\n\u001b[1;32m   1129\u001b[0m \u001b[43m        \u001b[49m\u001b[43m)\u001b[49m\u001b[43m,\u001b[49m\n\u001b[1;32m   1130\u001b[0m \u001b[43m        \u001b[49m\u001b[43mcast_to\u001b[49m\u001b[38;5;241;43m=\u001b[39;49m\u001b[43mChatCompletion\u001b[49m\u001b[43m,\u001b[49m\n\u001b[1;32m   1131\u001b[0m \u001b[43m        \u001b[49m\u001b[43mstream\u001b[49m\u001b[38;5;241;43m=\u001b[39;49m\u001b[43mstream\u001b[49m\u001b[43m \u001b[49m\u001b[38;5;129;43;01mor\u001b[39;49;00m\u001b[43m \u001b[49m\u001b[38;5;28;43;01mFalse\u001b[39;49;00m\u001b[43m,\u001b[49m\n\u001b[1;32m   1132\u001b[0m \u001b[43m        \u001b[49m\u001b[43mstream_cls\u001b[49m\u001b[38;5;241;43m=\u001b[39;49m\u001b[43mStream\u001b[49m\u001b[43m[\u001b[49m\u001b[43mChatCompletionChunk\u001b[49m\u001b[43m]\u001b[49m\u001b[43m,\u001b[49m\n\u001b[1;32m   1133\u001b[0m \u001b[43m    \u001b[49m\u001b[43m)\u001b[49m\n",
      "File \u001b[0;32m~/.pyenv/versions/3.11.9/lib/python3.11/site-packages/openai/_base_client.py:1249\u001b[0m, in \u001b[0;36mSyncAPIClient.post\u001b[0;34m(self, path, cast_to, body, options, files, stream, stream_cls)\u001b[0m\n\u001b[1;32m   1235\u001b[0m \u001b[38;5;28;01mdef\u001b[39;00m \u001b[38;5;21mpost\u001b[39m(\n\u001b[1;32m   1236\u001b[0m     \u001b[38;5;28mself\u001b[39m,\n\u001b[1;32m   1237\u001b[0m     path: \u001b[38;5;28mstr\u001b[39m,\n\u001b[0;32m   (...)\u001b[0m\n\u001b[1;32m   1244\u001b[0m     stream_cls: \u001b[38;5;28mtype\u001b[39m[_StreamT] \u001b[38;5;241m|\u001b[39m \u001b[38;5;28;01mNone\u001b[39;00m \u001b[38;5;241m=\u001b[39m \u001b[38;5;28;01mNone\u001b[39;00m,\n\u001b[1;32m   1245\u001b[0m ) \u001b[38;5;241m-\u001b[39m\u001b[38;5;241m>\u001b[39m ResponseT \u001b[38;5;241m|\u001b[39m _StreamT:\n\u001b[1;32m   1246\u001b[0m     opts \u001b[38;5;241m=\u001b[39m FinalRequestOptions\u001b[38;5;241m.\u001b[39mconstruct(\n\u001b[1;32m   1247\u001b[0m         method\u001b[38;5;241m=\u001b[39m\u001b[38;5;124m\"\u001b[39m\u001b[38;5;124mpost\u001b[39m\u001b[38;5;124m\"\u001b[39m, url\u001b[38;5;241m=\u001b[39mpath, json_data\u001b[38;5;241m=\u001b[39mbody, files\u001b[38;5;241m=\u001b[39mto_httpx_files(files), \u001b[38;5;241m*\u001b[39m\u001b[38;5;241m*\u001b[39moptions\n\u001b[1;32m   1248\u001b[0m     )\n\u001b[0;32m-> 1249\u001b[0m     \u001b[38;5;28;01mreturn\u001b[39;00m cast(ResponseT, \u001b[38;5;28;43mself\u001b[39;49m\u001b[38;5;241;43m.\u001b[39;49m\u001b[43mrequest\u001b[49m\u001b[43m(\u001b[49m\u001b[43mcast_to\u001b[49m\u001b[43m,\u001b[49m\u001b[43m \u001b[49m\u001b[43mopts\u001b[49m\u001b[43m,\u001b[49m\u001b[43m \u001b[49m\u001b[43mstream\u001b[49m\u001b[38;5;241;43m=\u001b[39;49m\u001b[43mstream\u001b[49m\u001b[43m,\u001b[49m\u001b[43m \u001b[49m\u001b[43mstream_cls\u001b[49m\u001b[38;5;241;43m=\u001b[39;49m\u001b[43mstream_cls\u001b[49m\u001b[43m)\u001b[49m)\n",
      "File \u001b[0;32m~/.pyenv/versions/3.11.9/lib/python3.11/site-packages/openai/_base_client.py:1037\u001b[0m, in \u001b[0;36mSyncAPIClient.request\u001b[0;34m(self, cast_to, options, stream, stream_cls)\u001b[0m\n\u001b[1;32m   1034\u001b[0m             err\u001b[38;5;241m.\u001b[39mresponse\u001b[38;5;241m.\u001b[39mread()\n\u001b[1;32m   1036\u001b[0m         log\u001b[38;5;241m.\u001b[39mdebug(\u001b[38;5;124m\"\u001b[39m\u001b[38;5;124mRe-raising status error\u001b[39m\u001b[38;5;124m\"\u001b[39m)\n\u001b[0;32m-> 1037\u001b[0m         \u001b[38;5;28;01mraise\u001b[39;00m \u001b[38;5;28mself\u001b[39m\u001b[38;5;241m.\u001b[39m_make_status_error_from_response(err\u001b[38;5;241m.\u001b[39mresponse) \u001b[38;5;28;01mfrom\u001b[39;00m \u001b[38;5;28;01mNone\u001b[39;00m\n\u001b[1;32m   1039\u001b[0m     \u001b[38;5;28;01mbreak\u001b[39;00m\n\u001b[1;32m   1041\u001b[0m \u001b[38;5;28;01massert\u001b[39;00m response \u001b[38;5;129;01mis\u001b[39;00m \u001b[38;5;129;01mnot\u001b[39;00m \u001b[38;5;28;01mNone\u001b[39;00m, \u001b[38;5;124m\"\u001b[39m\u001b[38;5;124mcould not resolve response (should never happen)\u001b[39m\u001b[38;5;124m\"\u001b[39m\n",
      "\u001b[0;31mNotFoundError\u001b[0m: Error code: 404 - {'error': {'message': 'The model `gpt-4` does not exist or you do not have access to it.', 'type': 'invalid_request_error', 'param': None, 'code': 'model_not_found'}}"
     ]
    }
   ],
   "source": [
    "def procesa_nubes(text):\n",
    "\tclient = OpenAI(api_key=api_chati)\n",
    "\tprompt = f\"Dado la siguiente descripción sobre la nubosidad de un lugar: '{text}'. Devuelve un JSON con los campos 'altonubes' que tome los valores 'low', 'mid', o 'high' dependiendo de la altura de las nubes; y 'nubosidad' con los valores 'escasa', 'media' o 'abundante' dependiendo de la cantidad de nubes que diga el texto que puede haber. Responde únicamente con el JSON.\"\n",
    "\n",
    "\tresponse = client.chat.completions.create(\n",
    "\t\tmodel = \"gpt-4\",\n",
    "\t\tmessages = [\n",
    "\t\t\t{\"role\": \"user\", \"content\": prompt}\n",
    "\t\t]\n",
    "\t)\n",
    "\n",
    "\treturn response.choices[0].message.content\n",
    "\n",
    "print(procesa_nubes(\"Abundante nubosidad baja en el norte, que podrá reducir la visibilidad localmente. En el resto, poco nuboso o despejado, aumentando la nubosidad por la tarde con el desarrollo de nubes de evolución diurna\"))"
   ]
  },
  {
   "cell_type": "code",
   "execution_count": 22,
   "id": "968c8f26",
   "metadata": {},
   "outputs": [],
   "source": [
    "def consulta_mountain(zona=ZONA):\n",
    "\turl = f\"https://opendata.aemet.es/opendata/api/prediccion/especifica/montaña/pasada/area/{zona}/dia/\"\n",
    "\tdict_respuesta = dict()\n",
    "\n",
    "\tfor i in range(4):\n",
    "\t\tresponse = requests.request(\"GET\", url+str(i), headers=headers, params=querystring)\n",
    "\n",
    "\t\tif response.status_code == 200:\n",
    "\n",
    "\t\t\t# Descarga de los datos reales\n",
    "\t\t\tdatos = response.json()\n",
    "\t\t\turl_datos = datos[\"datos\"]\n",
    "\t\t\tprint(url_datos)\n",
    "\n",
    "\t\t\t\n",
    "\t\t\tresponse_datos = requests.request(\"GET\", url_datos, headers=headers)\n",
    "\n",
    "\t\t\tif response_datos.status_code == 200:\n",
    "\t\t\t\tprediccion = response_datos.json()\n",
    "\n",
    "\t\t\t\t# En base a la respuesta dada, rellenamos un JSON propio\n",
    "\t\t\t"
   ]
  },
  {
   "cell_type": "code",
   "execution_count": 23,
   "id": "b20eee0d",
   "metadata": {},
   "outputs": [
    {
     "name": "stdout",
     "output_type": "stream",
     "text": [
      "https://opendata.aemet.es/opendata/sh/ddf16566\n",
      "https://opendata.aemet.es/opendata/sh/f886f646\n",
      "https://opendata.aemet.es/opendata/sh/c8bf7fe4\n",
      "https://opendata.aemet.es/opendata/sh/359a1f45\n"
     ]
    }
   ],
   "source": [
    "consulta_mountain()"
   ]
  }
 ],
 "metadata": {
  "kernelspec": {
   "display_name": "3.11.9",
   "language": "python",
   "name": "python3"
  },
  "language_info": {
   "codemirror_mode": {
    "name": "ipython",
    "version": 3
   },
   "file_extension": ".py",
   "mimetype": "text/x-python",
   "name": "python",
   "nbconvert_exporter": "python",
   "pygments_lexer": "ipython3",
   "version": "3.11.9"
  }
 },
 "nbformat": 4,
 "nbformat_minor": 5
}
