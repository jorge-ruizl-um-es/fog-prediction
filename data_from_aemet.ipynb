{
 "cells": [
  {
   "cell_type": "markdown",
   "id": "b662b51c",
   "metadata": {},
   "source": [
    "# Obtención de datos meteorológicos con la API de la AEMET"
   ]
  },
  {
   "cell_type": "markdown",
   "id": "608b2578",
   "metadata": {},
   "source": [
    "Constará de varias funciones para obtener los datos históricos a partir del 22 de junio de la API (en la zona de Cangas de Onís como municipio), y luego las previsiones para los siguientes días (en la zona de montaña de los Picos de Europa). Se construirán algunos dataframe con los que podremos construir un CSV y exportarlo. "
   ]
  },
  {
   "cell_type": "code",
   "execution_count": 15,
   "id": "7bee647c",
   "metadata": {},
   "outputs": [],
   "source": [
    "# Paquetes\n",
    "from api_key import api_key\n",
    "import requests\n",
    "import json\n",
    "import pandas as pd\n",
    "from datetime import datetime, timedelta"
   ]
  },
  {
   "cell_type": "markdown",
   "id": "029efdc4",
   "metadata": {},
   "source": [
    "## Definición de constantes"
   ]
  },
  {
   "cell_type": "code",
   "execution_count": 16,
   "id": "951d3611",
   "metadata": {},
   "outputs": [],
   "source": [
    "querystring = {\"api_key\": api_key}\n",
    "headers = {\n",
    "\t'cache-control': \"no-cache\"\n",
    "}\n",
    "\n",
    "ID_MUNICIPIO = '33012'  # Cangas de Onís\n",
    "ZONA = 'peu1'  # Zona montañosa Picos de Europa\n",
    "IDEMA = \"1178R\"  # Sotres\n",
    "\n",
    "fecha_inicio = \"2025-06-22T00:00:00UTC\"\n",
    "fecha_fin = \"2025-06-30T00:00:00UTC\""
   ]
  },
  {
   "cell_type": "markdown",
   "id": "871fd737",
   "metadata": {},
   "source": [
    "## Obtención de valores climatológicos pasados"
   ]
  },
  {
   "cell_type": "markdown",
   "id": "80ea5439",
   "metadata": {},
   "source": [
    "Esta función usa el endpoint de la AEMET para obtener los valores climatológicos por días observados en una determinada estación, dentro de un rango de días especificado. Devuelve el dataframe con las columnas de interés."
   ]
  },
  {
   "cell_type": "code",
   "execution_count": 17,
   "id": "704b040a",
   "metadata": {},
   "outputs": [],
   "source": [
    "def consulta_historicos(inicio, fin, estacion=IDEMA):\n",
    "\turl = f\"https://opendata.aemet.es/opendata/api/valores/climatologicos/diarios/datos/fechaini/{inicio}/fechafin/{fin}/estacion/{estacion}\"\n",
    "\n",
    "\tresponse = requests.request(\"GET\", url, headers=headers, params=querystring)\n",
    "\n",
    "\tif response.status_code == 200:\n",
    "\n",
    "\t\t# Descarga de los datos reales\n",
    "\t\tdatos = response.json()\n",
    "\t\turl_datos = datos[\"datos\"]\n",
    "\t\tresponse_datos = requests.request(\"GET\", url_datos, headers=headers)\n",
    "\n",
    "\t\tif response_datos.status_code == 200:\n",
    "\t\t\tprediccion = response_datos.json()\n",
    "\n",
    "\t\t\t# Convertir a dataframe y poner la fecha en el índice\n",
    "\t\t\tdf = pd.DataFrame(prediccion)\n",
    "\t\t\tif \"fecha\" in df.columns:\n",
    "\t\t\t\tdf[\"fecha\"] = pd.to_datetime(df[\"fecha\"])\n",
    "\n",
    "\t\t\t# Eliminar columnas que no nos interesan\n",
    "\t\t\tdf_nuevo = df.drop(columns=[\"indicativo\", \"nombre\", \"provincia\", \"altitud\", \"horatmin\", \"horatmax\", \"tmed\", \"horaracha\", \"horaPresMax\", \"horaPresMin\", \"horaHrMax\", \"horaHrMin\"])\n",
    "\t\t\t\n",
    "\t\t\treturn df_nuevo"
   ]
  },
  {
   "cell_type": "code",
   "execution_count": null,
   "id": "1c79d255",
   "metadata": {},
   "outputs": [
    {
     "name": "stdout",
     "output_type": "stream",
     "text": [
      "       fecha  prec  tmin  tmax dir velmedia racha presMax presMin hrMedia hrMax hrMin\n",
      "0 2025-06-22   0,0  11,9  20,4  15      1,4   7,2   884,2   881,9      99   100    61\n",
      "1 2025-06-23   2,0  11,7  25,0  24      2,5  16,1   884,0   882,2      64   100    40\n",
      "2 2025-06-24  23,8  13,7  26,6  23      5,6  21,7   884,7   878,7      54    94    34\n",
      "3 2025-06-25   2,0  11,5  19,9  12      3,6  14,7   882,5   875,5      86   100    50\n",
      "4 2025-06-26   0,0  11,4  18,2  07      1,4   6,1   886,9   882,5      95   100    80\n",
      "5 2025-06-27   0,0  14,8  23,5  06      2,5   7,5   889,2   886,2      58    88    51\n"
     ]
    }
   ],
   "source": [
    "pd.set_option('display.max_columns', None)      # Muestra todas las columnas\n",
    "pd.set_option('display.width', None)            # Usa el ancho completo del terminal o Jupyter\n",
    "pd.set_option('display.expand_frame_repr', False)  # Evita que pandas divida líneas\n",
    "\n",
    "df_pasado = consulta_historicos(fecha_inicio, fecha_fin)\n",
    "print(df_pasado)"
   ]
  },
  {
   "cell_type": "markdown",
   "id": "6fc884e6",
   "metadata": {},
   "source": [
    "## Obtención de previsiones en zona de montaña"
   ]
  }
 ],
 "metadata": {
  "kernelspec": {
   "display_name": "3.11.9",
   "language": "python",
   "name": "python3"
  },
  "language_info": {
   "codemirror_mode": {
    "name": "ipython",
    "version": 3
   },
   "file_extension": ".py",
   "mimetype": "text/x-python",
   "name": "python",
   "nbconvert_exporter": "python",
   "pygments_lexer": "ipython3",
   "version": "3.11.9"
  }
 },
 "nbformat": 4,
 "nbformat_minor": 5
}
