{
 "cells": [
  {
   "cell_type": "markdown",
   "id": "a12a9564",
   "metadata": {},
   "source": [
    "# Entrenamiento y prueba de un modelo clasificador basado en árboles de decisión"
   ]
  },
  {
   "cell_type": "markdown",
   "id": "11a848aa",
   "metadata": {},
   "source": [
    "Observando el dataset que manejamos, percibimos que tiene pocos datos y, para el problema que queremos resolver, necesitamos un clasificador binario dado que el *target* es una variable discreta que toma los valores \"SI\" o \"NO\". Para ello, podemos pensar en una primera aproximación a través de árboles de decisión, cuya interpretación es muy intuitiva y tienen alta explicabilidad. \n",
    "\n",
    "El dilema que encontramos aquí es que este tipo de modelos tienden a sobreajustar los datos de entrenamiento. Debido a la naturaleza del problema y a los escasos datos en general de los que partimos, quizás los resultados al evaluar el rendimiento a través de una división en *training* y *test* no sean concluyentes. Estudiaremos si podemos recurrir a validación cruzada y si esta técnica mejora la evaluación de resultados. \n",
    "\n",
    "Se ha elegido un árbol de decisión por encima de modelos más complejos como *Random Forest* debido a que tenemos pocos datos, y es un problema de clasificación bastante sencillo, con no muchas variables. Aún así, también probaremos con modelos algo más complejos como redes neuronales no muy densas. \n",
    "\n",
    "Una vez se haya entrenado el modelo, se pondrá en práctica con 4 instancias de datos cuyas etiquetas desconocemos, ya que son días que, a día de hoy (25 de julio de 2025), no se han desarrollado aún. La utilidad del modelo será poder predecir la niebla que habrá durante estos días en base a las previsiones de las que disponemos."
   ]
  },
  {
   "cell_type": "markdown",
   "id": "18055a54",
   "metadata": {},
   "source": [
    "## Paquetes"
   ]
  },
  {
   "cell_type": "code",
   "execution_count": 17,
   "id": "63ab774d",
   "metadata": {},
   "outputs": [],
   "source": [
    "import pandas as pd\n",
    "import numpy as np\n",
    "import matplotlib.pyplot as plt\n",
    "import os\n",
    "from sklearn.model_selection import LeaveOneOut\n",
    "from sklearn.tree import DecisionTreeClassifier\n",
    "from sklearn.tree import plot_tree\n",
    "from sklearn.metrics import accuracy_score, confusion_matrix, ConfusionMatrixDisplay, precision_score, recall_score \n",
    "from sklearn.metrics import make_scorer, f1_score\n",
    "from sklearn.model_selection import GridSearchCV"
   ]
  },
  {
   "cell_type": "markdown",
   "id": "840b56b6",
   "metadata": {},
   "source": [
    "## Importación de datos y tratamiento"
   ]
  },
  {
   "cell_type": "markdown",
   "id": "d6512023",
   "metadata": {},
   "source": [
    "Primero, descargamos los datos de los CSV's generados con las llamadas a la API de la AEMET."
   ]
  },
  {
   "cell_type": "code",
   "execution_count": 18,
   "id": "0e869156",
   "metadata": {},
   "outputs": [],
   "source": [
    "semilla = 123\n",
    "np.random.seed(semilla)\n",
    "base_dir = os.path.dirname(os.path.abspath(os.getcwd()))\n",
    "\n",
    "datos = pd.read_csv(os.path.join(base_dir, \"data\", \"processed\", \"data.csv\"), sep=\";\")\n",
    "datos_sin_etiquetar = pd.read_csv(os.path.join(base_dir, \"data\", \"processed\", \"data_sin_etiquetar.csv\"), sep=\";\")"
   ]
  },
  {
   "cell_type": "markdown",
   "id": "c03c2eb0",
   "metadata": {},
   "source": [
    "Una vez cargados, debemos convertir las variables cualitativas a *dummies* para asegurar un correcto entrenamiento y uso del modelo. Lo haremos con la función `get_dummies` de `pandas`.\n",
    "\n",
    "Primero, extraemos las variable categóricas de los dataset:"
   ]
  },
  {
   "cell_type": "code",
   "execution_count": 19,
   "id": "2b8517a0",
   "metadata": {},
   "outputs": [
    {
     "data": {
      "text/plain": [
       "Index(['fecha', 'altonubes', 'nubosidad', 'lluvia', 'viento', 'SUBIR'], dtype='object')"
      ]
     },
     "execution_count": 19,
     "metadata": {},
     "output_type": "execute_result"
    }
   ],
   "source": [
    "categoricas = datos.select_dtypes(include= [\"object\", \"category\"]).columns\n",
    "categoricas_sin_etiquetar = datos_sin_etiquetar.select_dtypes(include= [\"object\", \"category\"]).columns\n",
    "categoricas"
   ]
  },
  {
   "cell_type": "markdown",
   "id": "5950e30c",
   "metadata": {},
   "source": [
    "No vamos a tener en cuenta las variables \"fecha\", dado que esta es el índice (clave primaria que identifica cada dato); ni \"SUBIR\", dado que es el target a predecir y no haría falta transformarlo. De hecho, la variable \"fecha\" podrá eliminarse por completo del dataset, dado que no influye a la hora de realizar las predicciones."
   ]
  },
  {
   "cell_type": "code",
   "execution_count": 20,
   "id": "1fb309e0",
   "metadata": {},
   "outputs": [
    {
     "data": {
      "text/plain": [
       "Index(['altonubes', 'nubosidad', 'lluvia', 'viento'], dtype='object')"
      ]
     },
     "execution_count": 20,
     "metadata": {},
     "output_type": "execute_result"
    }
   ],
   "source": [
    "categoricas = categoricas.delete([0, 5])\n",
    "datos.drop(\"fecha\", axis=1, inplace=True)\n",
    "categoricas"
   ]
  },
  {
   "cell_type": "markdown",
   "id": "617daf73",
   "metadata": {},
   "source": [
    "De las \"sin etiquetar\", vamos a eliminar únicamente la fecha."
   ]
  },
  {
   "cell_type": "code",
   "execution_count": 21,
   "id": "46612089",
   "metadata": {},
   "outputs": [
    {
     "data": {
      "text/plain": [
       "Index(['altonubes', 'nubosidad', 'lluvia', 'viento'], dtype='object')"
      ]
     },
     "execution_count": 21,
     "metadata": {},
     "output_type": "execute_result"
    }
   ],
   "source": [
    "datos_sin_etiquetar.drop(\"fecha\", axis=1, inplace=True)\n",
    "categoricas_sin_etiquetar = categoricas_sin_etiquetar.delete(0)\n",
    "categoricas_sin_etiquetar"
   ]
  },
  {
   "cell_type": "markdown",
   "id": "bd8df91b",
   "metadata": {},
   "source": [
    "Transformamos a dummies y eliminamos las variables originales:"
   ]
  },
  {
   "cell_type": "code",
   "execution_count": 22,
   "id": "1cbaaac0",
   "metadata": {},
   "outputs": [
    {
     "data": {
      "text/html": [
       "<div>\n",
       "<style scoped>\n",
       "    .dataframe tbody tr th:only-of-type {\n",
       "        vertical-align: middle;\n",
       "    }\n",
       "\n",
       "    .dataframe tbody tr th {\n",
       "        vertical-align: top;\n",
       "    }\n",
       "\n",
       "    .dataframe thead th {\n",
       "        text-align: right;\n",
       "    }\n",
       "</style>\n",
       "<table border=\"1\" class=\"dataframe\">\n",
       "  <thead>\n",
       "    <tr style=\"text-align: right;\">\n",
       "      <th></th>\n",
       "      <th>prec</th>\n",
       "      <th>tmin</th>\n",
       "      <th>tmax</th>\n",
       "      <th>velmedia</th>\n",
       "      <th>hrMedia</th>\n",
       "      <th>hrMax</th>\n",
       "      <th>hrMin</th>\n",
       "      <th>SUBIR</th>\n",
       "      <th>altonubes_mid</th>\n",
       "      <th>altonubes_nan</th>\n",
       "      <th>nubosidad_escasa</th>\n",
       "      <th>nubosidad_media</th>\n",
       "      <th>nubosidad_nan</th>\n",
       "      <th>lluvia_no</th>\n",
       "      <th>lluvia_posible</th>\n",
       "      <th>lluvia_nan</th>\n",
       "      <th>viento_fuerte</th>\n",
       "      <th>viento_moderado</th>\n",
       "      <th>viento_nan</th>\n",
       "    </tr>\n",
       "  </thead>\n",
       "  <tbody>\n",
       "    <tr>\n",
       "      <th>0</th>\n",
       "      <td>0.0</td>\n",
       "      <td>11.9</td>\n",
       "      <td>20.4</td>\n",
       "      <td>1.4</td>\n",
       "      <td>99.0</td>\n",
       "      <td>100.0</td>\n",
       "      <td>61.0</td>\n",
       "      <td>NO</td>\n",
       "      <td>False</td>\n",
       "      <td>False</td>\n",
       "      <td>False</td>\n",
       "      <td>False</td>\n",
       "      <td>False</td>\n",
       "      <td>False</td>\n",
       "      <td>True</td>\n",
       "      <td>False</td>\n",
       "      <td>False</td>\n",
       "      <td>True</td>\n",
       "      <td>False</td>\n",
       "    </tr>\n",
       "    <tr>\n",
       "      <th>1</th>\n",
       "      <td>2.0</td>\n",
       "      <td>11.7</td>\n",
       "      <td>25.0</td>\n",
       "      <td>2.5</td>\n",
       "      <td>64.0</td>\n",
       "      <td>100.0</td>\n",
       "      <td>40.0</td>\n",
       "      <td>NO</td>\n",
       "      <td>False</td>\n",
       "      <td>True</td>\n",
       "      <td>False</td>\n",
       "      <td>False</td>\n",
       "      <td>True</td>\n",
       "      <td>False</td>\n",
       "      <td>False</td>\n",
       "      <td>True</td>\n",
       "      <td>False</td>\n",
       "      <td>False</td>\n",
       "      <td>True</td>\n",
       "    </tr>\n",
       "    <tr>\n",
       "      <th>2</th>\n",
       "      <td>23.8</td>\n",
       "      <td>13.7</td>\n",
       "      <td>26.6</td>\n",
       "      <td>5.6</td>\n",
       "      <td>54.0</td>\n",
       "      <td>94.0</td>\n",
       "      <td>34.0</td>\n",
       "      <td>SI</td>\n",
       "      <td>True</td>\n",
       "      <td>False</td>\n",
       "      <td>True</td>\n",
       "      <td>False</td>\n",
       "      <td>False</td>\n",
       "      <td>False</td>\n",
       "      <td>False</td>\n",
       "      <td>False</td>\n",
       "      <td>True</td>\n",
       "      <td>False</td>\n",
       "      <td>False</td>\n",
       "    </tr>\n",
       "    <tr>\n",
       "      <th>3</th>\n",
       "      <td>2.0</td>\n",
       "      <td>11.5</td>\n",
       "      <td>19.9</td>\n",
       "      <td>3.6</td>\n",
       "      <td>86.0</td>\n",
       "      <td>100.0</td>\n",
       "      <td>50.0</td>\n",
       "      <td>SI</td>\n",
       "      <td>False</td>\n",
       "      <td>True</td>\n",
       "      <td>False</td>\n",
       "      <td>False</td>\n",
       "      <td>False</td>\n",
       "      <td>False</td>\n",
       "      <td>False</td>\n",
       "      <td>False</td>\n",
       "      <td>False</td>\n",
       "      <td>True</td>\n",
       "      <td>False</td>\n",
       "    </tr>\n",
       "    <tr>\n",
       "      <th>4</th>\n",
       "      <td>0.0</td>\n",
       "      <td>11.4</td>\n",
       "      <td>18.2</td>\n",
       "      <td>1.4</td>\n",
       "      <td>95.0</td>\n",
       "      <td>100.0</td>\n",
       "      <td>80.0</td>\n",
       "      <td>NO</td>\n",
       "      <td>False</td>\n",
       "      <td>False</td>\n",
       "      <td>True</td>\n",
       "      <td>False</td>\n",
       "      <td>False</td>\n",
       "      <td>True</td>\n",
       "      <td>False</td>\n",
       "      <td>False</td>\n",
       "      <td>False</td>\n",
       "      <td>False</td>\n",
       "      <td>False</td>\n",
       "    </tr>\n",
       "  </tbody>\n",
       "</table>\n",
       "</div>"
      ],
      "text/plain": [
       "   prec  tmin  tmax  velmedia  hrMedia  hrMax  hrMin SUBIR  altonubes_mid  \\\n",
       "0   0.0  11.9  20.4       1.4     99.0  100.0   61.0    NO          False   \n",
       "1   2.0  11.7  25.0       2.5     64.0  100.0   40.0    NO          False   \n",
       "2  23.8  13.7  26.6       5.6     54.0   94.0   34.0    SI           True   \n",
       "3   2.0  11.5  19.9       3.6     86.0  100.0   50.0    SI          False   \n",
       "4   0.0  11.4  18.2       1.4     95.0  100.0   80.0    NO          False   \n",
       "\n",
       "   altonubes_nan  nubosidad_escasa  nubosidad_media  nubosidad_nan  lluvia_no  \\\n",
       "0          False             False            False          False      False   \n",
       "1           True             False            False           True      False   \n",
       "2          False              True            False          False      False   \n",
       "3           True             False            False          False      False   \n",
       "4          False              True            False          False       True   \n",
       "\n",
       "   lluvia_posible  lluvia_nan  viento_fuerte  viento_moderado  viento_nan  \n",
       "0            True       False          False             True       False  \n",
       "1           False        True          False            False        True  \n",
       "2           False       False           True            False       False  \n",
       "3           False       False          False             True       False  \n",
       "4           False       False          False            False       False  "
      ]
     },
     "execution_count": 22,
     "metadata": {},
     "output_type": "execute_result"
    }
   ],
   "source": [
    "categoricas_dummies = pd.get_dummies(datos[categoricas], drop_first = True, dummy_na = True)\n",
    "categoricas_sin_etiquetar_dummies = pd.get_dummies(datos_sin_etiquetar[categoricas_sin_etiquetar], drop_first = True, dummy_na = True)\n",
    "\n",
    "datos.drop(categoricas, axis = 1, inplace = True)   # inplace para que se elimine sobre el dataset\n",
    "datos_sin_etiquetar = datos_sin_etiquetar.reindex(columns=datos.drop(columns=\"SUBIR\").columns, fill_value=0)\n",
    "\n",
    "# Tras eliminar los atributos originales, concatenamos los nuevos atributos creados para las variables categóricas.\n",
    "datos = pd.concat([datos, categoricas_dummies], axis = 1)\n",
    "datos_sin_etiquetar = pd.concat([datos_sin_etiquetar, categoricas_sin_etiquetar_dummies], axis = 1)\n",
    "\n",
    "# Mostramos cómo queda tras este proceso\n",
    "datos.head()"
   ]
  },
  {
   "cell_type": "markdown",
   "id": "7e65fc6f",
   "metadata": {},
   "source": [
    "## Construcción del modelo"
   ]
  },
  {
   "cell_type": "markdown",
   "id": "873e911c",
   "metadata": {},
   "source": [
    "Una vez preparados los datos, vamos a proceder con el entrenamiento del modelo. Para ello, usaremos los datos etiquetados de los que disponemos, que conforman un conjunto extremadamente pequeño. Debido a esto, no conviene realizar un *train-test split* al uso, sino que optamos por una validación cruzada con *Leave-One-Out*. Esta es la mejor forma de lidiar con datasets pequeños, dado que cada instancia se usará una vez como test, y el resto como entrenamiento. Es una técnica costosa computacionalmente, pero ante la escasa cantidad de datos, no será un inconveniente."
   ]
  },
  {
   "cell_type": "markdown",
   "id": "843682b4",
   "metadata": {},
   "source": [
    "Primero, separamos las *features* (variables predictoras del dataset) del *target* a predecir:"
   ]
  },
  {
   "cell_type": "code",
   "execution_count": 23,
   "id": "357add71",
   "metadata": {},
   "outputs": [],
   "source": [
    "X = datos.drop(columns=\"SUBIR\")\n",
    "y = datos.SUBIR"
   ]
  },
  {
   "cell_type": "markdown",
   "id": "d29ab3bd",
   "metadata": {},
   "source": [
    "Podemos comprobar que hay un cierto desbalance de clases en el dataset, dado que el target toma más a menudo el valor \"NO\". Esto puede hacer que la métrica *accuracy* pueda no ser la apropiada."
   ]
  },
  {
   "cell_type": "code",
   "execution_count": 24,
   "id": "865e2a47",
   "metadata": {},
   "outputs": [
    {
     "data": {
      "text/plain": [
       "SUBIR\n",
       "NO    0.625\n",
       "SI    0.375\n",
       "Name: proportion, dtype: float64"
      ]
     },
     "execution_count": 24,
     "metadata": {},
     "output_type": "execute_result"
    }
   ],
   "source": [
    "y.value_counts(normalize=True)"
   ]
  },
  {
   "cell_type": "markdown",
   "id": "312e6e55",
   "metadata": {},
   "source": [
    "Procedemos ahora con la validación cruzada mediante *Leave One Out*. Además, crearemos cada modelo en cada iteración del LOO con los hiperparámetros óptimos al evaluarlo mediante un *grid* anidado dentro. La medida de evaluación elegida es, finalmente, la F1-score, debido al desbalanceo de clases que existe:"
   ]
  },
  {
   "cell_type": "code",
   "execution_count": 36,
   "id": "c4830bf5",
   "metadata": {},
   "outputs": [
    {
     "name": "stdout",
     "output_type": "stream",
     "text": [
      "La F1-score promedio en training con LOO es: 0.851\n",
      "La F1-score promedio en test con LOO es: 0.510\n",
      "La exactitud promedio en test con LOO es: 0.625\n",
      "La exactitud promedio en training con LOO es: 0.904\n",
      "La precisión promedio en test con LOO es: 0.125\n",
      "La sensibilidad promedio en test con LOO es: 0.125\n",
      "Hiperparámetros más frecuentes (('criterion', 'entropy'), ('max_depth', None))\n"
     ]
    }
   ],
   "source": [
    "# Grid de parámetros\n",
    "param_grid = {\n",
    "    'criterion': ['gini', 'entropy'],\n",
    "    'max_depth': [None, 1, 2, 3, 4, 5, 6, 7, 8, 9]\n",
    "}\n",
    "\n",
    "# Crear objeto asociado a la técnica del Leave One Out\n",
    "loo = LeaveOneOut()\n",
    "\n",
    "# Almacenar scores (f1) en test en la validación cruzada\n",
    "scores_test = []\n",
    "scores_training = []\n",
    "\n",
    "# Almacenar otras métricas en test \n",
    "precisions = []\n",
    "recalls = []\n",
    "accuracies = []\n",
    "accuracies_training = []\n",
    "\n",
    "# Guardar valores reales y predichos para poder representar la matriz de confusión\n",
    "y_true = []\n",
    "y_pred = []\n",
    "\n",
    "# Guardar los mejores parámetros de cada iteración\n",
    "best_params_list = []\n",
    "\n",
    "# Definimos el scorer que vamos a usar, basado en la f1-score, dado que al probar con accuracy,\n",
    "# obtenemos un árbol subajustado.\n",
    "scoring = make_scorer(f1_score, pos_label=\"SI\", zero_division=0)\n",
    "\n",
    "# Generar tantos pares de índices como filas tenga X\n",
    "for train_index, test_index in loo.split(X):\n",
    "    X_train, X_test = X.iloc[train_index], X.iloc[test_index]\n",
    "    y_train, y_test = y.iloc[train_index], y.iloc[test_index]\n",
    "    \n",
    "\t# Definimos el grid dentro de la iteración\n",
    "    grid = GridSearchCV(\n",
    "        estimator= DecisionTreeClassifier(\n",
    "            class_weight = \"balanced\",\n",
    "            min_samples_split=2,\n",
    "            min_samples_leaf=1,\n",
    "            random_state=semilla\n",
    "\t\t),\n",
    "        param_grid= param_grid,\n",
    "        scoring= scoring,\n",
    "        cv = 5,   # validación cruzada de 5 folds dentro del entrenamiento\n",
    "        refit = True,\n",
    "        return_train_score= True\n",
    "\t)\n",
    "    \n",
    "\t# Entrenamos el grid con los datos de train dentro de la iteración del LOO\n",
    "    grid.fit(X_train, y_train)\n",
    "    \n",
    "\t# Una vez entrenado el grid, podemos obtener el modelo que ha dado una mayor puntuación\n",
    "    best_model = grid.best_estimator_\n",
    "    f1_test = grid.best_score_\n",
    "    pred_test = best_model.predict(X_test)\n",
    "    pred_train = best_model.predict(X_train)\n",
    "    \n",
    "\t# Guardamos las métricas de precisión y sensibilidad\n",
    "    precisions.append(precision_score(y_test, pred_test, zero_division=0, pos_label=\"SI\"))\n",
    "    recalls.append(recall_score(y_test, pred_test, zero_division=0, pos_label=\"SI\"))\n",
    "    accuracies.append(accuracy_score(y_test, pred_test))\n",
    "    accuracies_training.append(accuracy_score(y_train, pred_train))\n",
    "    \n",
    "\t# Almacenar las f1-scores y los parametros\n",
    "    scores_test.append(f1_test)\n",
    "    scores_training.append(f1_score(y_train, pred_train, zero_division=0, pos_label=\"SI\"))\n",
    "    best_params_list.append(grid.best_params_)\n",
    "    \n",
    "\t# Almacenar predicciones y valores reales\n",
    "    y_pred.append(pred_test[0])\n",
    "    y_true.append(y_test.values[0])\n",
    "\n",
    "\n",
    "# Imprimimos los resultados finales\n",
    "print(f\"La F1-score promedio en training con LOO es: {np.mean(scores_training):.3f}\")\n",
    "print(f\"La F1-score promedio en test con LOO es: {np.mean(scores_test):.3f}\")\n",
    "print(f\"La exactitud promedio en test con LOO es: {np.mean(accuracies):.3f}\")\n",
    "print(f\"La exactitud promedio en training con LOO es: {np.mean(accuracies_training):.3f}\")\n",
    "print(f\"La precisión promedio en test con LOO es: {np.mean(precisions):.3f}\")\n",
    "print(f\"La sensibilidad promedio en test con LOO es: {np.mean(recalls):.3f}\")\n",
    "frequent_params = max(set(tuple(p.items()) for p in best_params_list), key=best_params_list.count)\n",
    "print(f\"Hiperparámetros más frecuentes {frequent_params}\")\n",
    "best_params_final = dict(frequent_params)"
   ]
  },
  {
   "cell_type": "markdown",
   "id": "7ee82adf",
   "metadata": {},
   "source": [
    "Con este procedimiento, hemos encapsulado la búsqueda de los mejores parámetros para la creación del modelo, el entrenamiento del mismo y la evaluación de su rendimiento mediante *Leave One Out*.\n",
    "\n",
    "Podemos ver que, aunque hemos intentado calibrar el modelo lo mejor posible, los resultados parecen apuntar a un problema grave de subajuste en test. El valor de la F1-score es algo deficiente (0.51), indicando un modelo cuyo funcionamiento en términos de precisión y sensibilidad no es muy bueno. La exactitud que obtenemos es superior a 0.5, pero aún así no es lo suficientemente alta como para indicar un modelo que funcione apropiadamente. Por último, la precisión y sensibilidad son muy bajas, lo cual quiere decir que hay muchos falsos positivos y falsos negativos. Esto quiere decir, en general, que el modelo no es capaz de identificar satisfactoriamente los suficientes verdaderos positivos, por lo que no nos resultaría útil para nuestro propósito.\n",
    "\n",
    "Dado que los resultados en training son considerablemente mejores que los de test, podríamos hablar también de un **sobreajuste** en training, y un subajuste en test. El modelo ha sobreajustado, y memoriza los datos con los que ha sido entrenado.\n",
    "\n",
    "El modelo final quedaría:"
   ]
  },
  {
   "cell_type": "code",
   "execution_count": 26,
   "id": "a8ccc575",
   "metadata": {},
   "outputs": [
    {
     "data": {
      "text/html": [
       "<style>#sk-container-id-2 {\n",
       "  /* Definition of color scheme common for light and dark mode */\n",
       "  --sklearn-color-text: black;\n",
       "  --sklearn-color-line: gray;\n",
       "  /* Definition of color scheme for unfitted estimators */\n",
       "  --sklearn-color-unfitted-level-0: #fff5e6;\n",
       "  --sklearn-color-unfitted-level-1: #f6e4d2;\n",
       "  --sklearn-color-unfitted-level-2: #ffe0b3;\n",
       "  --sklearn-color-unfitted-level-3: chocolate;\n",
       "  /* Definition of color scheme for fitted estimators */\n",
       "  --sklearn-color-fitted-level-0: #f0f8ff;\n",
       "  --sklearn-color-fitted-level-1: #d4ebff;\n",
       "  --sklearn-color-fitted-level-2: #b3dbfd;\n",
       "  --sklearn-color-fitted-level-3: cornflowerblue;\n",
       "\n",
       "  /* Specific color for light theme */\n",
       "  --sklearn-color-text-on-default-background: var(--sg-text-color, var(--theme-code-foreground, var(--jp-content-font-color1, black)));\n",
       "  --sklearn-color-background: var(--sg-background-color, var(--theme-background, var(--jp-layout-color0, white)));\n",
       "  --sklearn-color-border-box: var(--sg-text-color, var(--theme-code-foreground, var(--jp-content-font-color1, black)));\n",
       "  --sklearn-color-icon: #696969;\n",
       "\n",
       "  @media (prefers-color-scheme: dark) {\n",
       "    /* Redefinition of color scheme for dark theme */\n",
       "    --sklearn-color-text-on-default-background: var(--sg-text-color, var(--theme-code-foreground, var(--jp-content-font-color1, white)));\n",
       "    --sklearn-color-background: var(--sg-background-color, var(--theme-background, var(--jp-layout-color0, #111)));\n",
       "    --sklearn-color-border-box: var(--sg-text-color, var(--theme-code-foreground, var(--jp-content-font-color1, white)));\n",
       "    --sklearn-color-icon: #878787;\n",
       "  }\n",
       "}\n",
       "\n",
       "#sk-container-id-2 {\n",
       "  color: var(--sklearn-color-text);\n",
       "}\n",
       "\n",
       "#sk-container-id-2 pre {\n",
       "  padding: 0;\n",
       "}\n",
       "\n",
       "#sk-container-id-2 input.sk-hidden--visually {\n",
       "  border: 0;\n",
       "  clip: rect(1px 1px 1px 1px);\n",
       "  clip: rect(1px, 1px, 1px, 1px);\n",
       "  height: 1px;\n",
       "  margin: -1px;\n",
       "  overflow: hidden;\n",
       "  padding: 0;\n",
       "  position: absolute;\n",
       "  width: 1px;\n",
       "}\n",
       "\n",
       "#sk-container-id-2 div.sk-dashed-wrapped {\n",
       "  border: 1px dashed var(--sklearn-color-line);\n",
       "  margin: 0 0.4em 0.5em 0.4em;\n",
       "  box-sizing: border-box;\n",
       "  padding-bottom: 0.4em;\n",
       "  background-color: var(--sklearn-color-background);\n",
       "}\n",
       "\n",
       "#sk-container-id-2 div.sk-container {\n",
       "  /* jupyter's `normalize.less` sets `[hidden] { display: none; }`\n",
       "     but bootstrap.min.css set `[hidden] { display: none !important; }`\n",
       "     so we also need the `!important` here to be able to override the\n",
       "     default hidden behavior on the sphinx rendered scikit-learn.org.\n",
       "     See: https://github.com/scikit-learn/scikit-learn/issues/21755 */\n",
       "  display: inline-block !important;\n",
       "  position: relative;\n",
       "}\n",
       "\n",
       "#sk-container-id-2 div.sk-text-repr-fallback {\n",
       "  display: none;\n",
       "}\n",
       "\n",
       "div.sk-parallel-item,\n",
       "div.sk-serial,\n",
       "div.sk-item {\n",
       "  /* draw centered vertical line to link estimators */\n",
       "  background-image: linear-gradient(var(--sklearn-color-text-on-default-background), var(--sklearn-color-text-on-default-background));\n",
       "  background-size: 2px 100%;\n",
       "  background-repeat: no-repeat;\n",
       "  background-position: center center;\n",
       "}\n",
       "\n",
       "/* Parallel-specific style estimator block */\n",
       "\n",
       "#sk-container-id-2 div.sk-parallel-item::after {\n",
       "  content: \"\";\n",
       "  width: 100%;\n",
       "  border-bottom: 2px solid var(--sklearn-color-text-on-default-background);\n",
       "  flex-grow: 1;\n",
       "}\n",
       "\n",
       "#sk-container-id-2 div.sk-parallel {\n",
       "  display: flex;\n",
       "  align-items: stretch;\n",
       "  justify-content: center;\n",
       "  background-color: var(--sklearn-color-background);\n",
       "  position: relative;\n",
       "}\n",
       "\n",
       "#sk-container-id-2 div.sk-parallel-item {\n",
       "  display: flex;\n",
       "  flex-direction: column;\n",
       "}\n",
       "\n",
       "#sk-container-id-2 div.sk-parallel-item:first-child::after {\n",
       "  align-self: flex-end;\n",
       "  width: 50%;\n",
       "}\n",
       "\n",
       "#sk-container-id-2 div.sk-parallel-item:last-child::after {\n",
       "  align-self: flex-start;\n",
       "  width: 50%;\n",
       "}\n",
       "\n",
       "#sk-container-id-2 div.sk-parallel-item:only-child::after {\n",
       "  width: 0;\n",
       "}\n",
       "\n",
       "/* Serial-specific style estimator block */\n",
       "\n",
       "#sk-container-id-2 div.sk-serial {\n",
       "  display: flex;\n",
       "  flex-direction: column;\n",
       "  align-items: center;\n",
       "  background-color: var(--sklearn-color-background);\n",
       "  padding-right: 1em;\n",
       "  padding-left: 1em;\n",
       "}\n",
       "\n",
       "\n",
       "/* Toggleable style: style used for estimator/Pipeline/ColumnTransformer box that is\n",
       "clickable and can be expanded/collapsed.\n",
       "- Pipeline and ColumnTransformer use this feature and define the default style\n",
       "- Estimators will overwrite some part of the style using the `sk-estimator` class\n",
       "*/\n",
       "\n",
       "/* Pipeline and ColumnTransformer style (default) */\n",
       "\n",
       "#sk-container-id-2 div.sk-toggleable {\n",
       "  /* Default theme specific background. It is overwritten whether we have a\n",
       "  specific estimator or a Pipeline/ColumnTransformer */\n",
       "  background-color: var(--sklearn-color-background);\n",
       "}\n",
       "\n",
       "/* Toggleable label */\n",
       "#sk-container-id-2 label.sk-toggleable__label {\n",
       "  cursor: pointer;\n",
       "  display: block;\n",
       "  width: 100%;\n",
       "  margin-bottom: 0;\n",
       "  padding: 0.5em;\n",
       "  box-sizing: border-box;\n",
       "  text-align: center;\n",
       "}\n",
       "\n",
       "#sk-container-id-2 label.sk-toggleable__label-arrow:before {\n",
       "  /* Arrow on the left of the label */\n",
       "  content: \"▸\";\n",
       "  float: left;\n",
       "  margin-right: 0.25em;\n",
       "  color: var(--sklearn-color-icon);\n",
       "}\n",
       "\n",
       "#sk-container-id-2 label.sk-toggleable__label-arrow:hover:before {\n",
       "  color: var(--sklearn-color-text);\n",
       "}\n",
       "\n",
       "/* Toggleable content - dropdown */\n",
       "\n",
       "#sk-container-id-2 div.sk-toggleable__content {\n",
       "  max-height: 0;\n",
       "  max-width: 0;\n",
       "  overflow: hidden;\n",
       "  text-align: left;\n",
       "  /* unfitted */\n",
       "  background-color: var(--sklearn-color-unfitted-level-0);\n",
       "}\n",
       "\n",
       "#sk-container-id-2 div.sk-toggleable__content.fitted {\n",
       "  /* fitted */\n",
       "  background-color: var(--sklearn-color-fitted-level-0);\n",
       "}\n",
       "\n",
       "#sk-container-id-2 div.sk-toggleable__content pre {\n",
       "  margin: 0.2em;\n",
       "  border-radius: 0.25em;\n",
       "  color: var(--sklearn-color-text);\n",
       "  /* unfitted */\n",
       "  background-color: var(--sklearn-color-unfitted-level-0);\n",
       "}\n",
       "\n",
       "#sk-container-id-2 div.sk-toggleable__content.fitted pre {\n",
       "  /* unfitted */\n",
       "  background-color: var(--sklearn-color-fitted-level-0);\n",
       "}\n",
       "\n",
       "#sk-container-id-2 input.sk-toggleable__control:checked~div.sk-toggleable__content {\n",
       "  /* Expand drop-down */\n",
       "  max-height: 200px;\n",
       "  max-width: 100%;\n",
       "  overflow: auto;\n",
       "}\n",
       "\n",
       "#sk-container-id-2 input.sk-toggleable__control:checked~label.sk-toggleable__label-arrow:before {\n",
       "  content: \"▾\";\n",
       "}\n",
       "\n",
       "/* Pipeline/ColumnTransformer-specific style */\n",
       "\n",
       "#sk-container-id-2 div.sk-label input.sk-toggleable__control:checked~label.sk-toggleable__label {\n",
       "  color: var(--sklearn-color-text);\n",
       "  background-color: var(--sklearn-color-unfitted-level-2);\n",
       "}\n",
       "\n",
       "#sk-container-id-2 div.sk-label.fitted input.sk-toggleable__control:checked~label.sk-toggleable__label {\n",
       "  background-color: var(--sklearn-color-fitted-level-2);\n",
       "}\n",
       "\n",
       "/* Estimator-specific style */\n",
       "\n",
       "/* Colorize estimator box */\n",
       "#sk-container-id-2 div.sk-estimator input.sk-toggleable__control:checked~label.sk-toggleable__label {\n",
       "  /* unfitted */\n",
       "  background-color: var(--sklearn-color-unfitted-level-2);\n",
       "}\n",
       "\n",
       "#sk-container-id-2 div.sk-estimator.fitted input.sk-toggleable__control:checked~label.sk-toggleable__label {\n",
       "  /* fitted */\n",
       "  background-color: var(--sklearn-color-fitted-level-2);\n",
       "}\n",
       "\n",
       "#sk-container-id-2 div.sk-label label.sk-toggleable__label,\n",
       "#sk-container-id-2 div.sk-label label {\n",
       "  /* The background is the default theme color */\n",
       "  color: var(--sklearn-color-text-on-default-background);\n",
       "}\n",
       "\n",
       "/* On hover, darken the color of the background */\n",
       "#sk-container-id-2 div.sk-label:hover label.sk-toggleable__label {\n",
       "  color: var(--sklearn-color-text);\n",
       "  background-color: var(--sklearn-color-unfitted-level-2);\n",
       "}\n",
       "\n",
       "/* Label box, darken color on hover, fitted */\n",
       "#sk-container-id-2 div.sk-label.fitted:hover label.sk-toggleable__label.fitted {\n",
       "  color: var(--sklearn-color-text);\n",
       "  background-color: var(--sklearn-color-fitted-level-2);\n",
       "}\n",
       "\n",
       "/* Estimator label */\n",
       "\n",
       "#sk-container-id-2 div.sk-label label {\n",
       "  font-family: monospace;\n",
       "  font-weight: bold;\n",
       "  display: inline-block;\n",
       "  line-height: 1.2em;\n",
       "}\n",
       "\n",
       "#sk-container-id-2 div.sk-label-container {\n",
       "  text-align: center;\n",
       "}\n",
       "\n",
       "/* Estimator-specific */\n",
       "#sk-container-id-2 div.sk-estimator {\n",
       "  font-family: monospace;\n",
       "  border: 1px dotted var(--sklearn-color-border-box);\n",
       "  border-radius: 0.25em;\n",
       "  box-sizing: border-box;\n",
       "  margin-bottom: 0.5em;\n",
       "  /* unfitted */\n",
       "  background-color: var(--sklearn-color-unfitted-level-0);\n",
       "}\n",
       "\n",
       "#sk-container-id-2 div.sk-estimator.fitted {\n",
       "  /* fitted */\n",
       "  background-color: var(--sklearn-color-fitted-level-0);\n",
       "}\n",
       "\n",
       "/* on hover */\n",
       "#sk-container-id-2 div.sk-estimator:hover {\n",
       "  /* unfitted */\n",
       "  background-color: var(--sklearn-color-unfitted-level-2);\n",
       "}\n",
       "\n",
       "#sk-container-id-2 div.sk-estimator.fitted:hover {\n",
       "  /* fitted */\n",
       "  background-color: var(--sklearn-color-fitted-level-2);\n",
       "}\n",
       "\n",
       "/* Specification for estimator info (e.g. \"i\" and \"?\") */\n",
       "\n",
       "/* Common style for \"i\" and \"?\" */\n",
       "\n",
       ".sk-estimator-doc-link,\n",
       "a:link.sk-estimator-doc-link,\n",
       "a:visited.sk-estimator-doc-link {\n",
       "  float: right;\n",
       "  font-size: smaller;\n",
       "  line-height: 1em;\n",
       "  font-family: monospace;\n",
       "  background-color: var(--sklearn-color-background);\n",
       "  border-radius: 1em;\n",
       "  height: 1em;\n",
       "  width: 1em;\n",
       "  text-decoration: none !important;\n",
       "  margin-left: 1ex;\n",
       "  /* unfitted */\n",
       "  border: var(--sklearn-color-unfitted-level-1) 1pt solid;\n",
       "  color: var(--sklearn-color-unfitted-level-1);\n",
       "}\n",
       "\n",
       ".sk-estimator-doc-link.fitted,\n",
       "a:link.sk-estimator-doc-link.fitted,\n",
       "a:visited.sk-estimator-doc-link.fitted {\n",
       "  /* fitted */\n",
       "  border: var(--sklearn-color-fitted-level-1) 1pt solid;\n",
       "  color: var(--sklearn-color-fitted-level-1);\n",
       "}\n",
       "\n",
       "/* On hover */\n",
       "div.sk-estimator:hover .sk-estimator-doc-link:hover,\n",
       ".sk-estimator-doc-link:hover,\n",
       "div.sk-label-container:hover .sk-estimator-doc-link:hover,\n",
       ".sk-estimator-doc-link:hover {\n",
       "  /* unfitted */\n",
       "  background-color: var(--sklearn-color-unfitted-level-3);\n",
       "  color: var(--sklearn-color-background);\n",
       "  text-decoration: none;\n",
       "}\n",
       "\n",
       "div.sk-estimator.fitted:hover .sk-estimator-doc-link.fitted:hover,\n",
       ".sk-estimator-doc-link.fitted:hover,\n",
       "div.sk-label-container:hover .sk-estimator-doc-link.fitted:hover,\n",
       ".sk-estimator-doc-link.fitted:hover {\n",
       "  /* fitted */\n",
       "  background-color: var(--sklearn-color-fitted-level-3);\n",
       "  color: var(--sklearn-color-background);\n",
       "  text-decoration: none;\n",
       "}\n",
       "\n",
       "/* Span, style for the box shown on hovering the info icon */\n",
       ".sk-estimator-doc-link span {\n",
       "  display: none;\n",
       "  z-index: 9999;\n",
       "  position: relative;\n",
       "  font-weight: normal;\n",
       "  right: .2ex;\n",
       "  padding: .5ex;\n",
       "  margin: .5ex;\n",
       "  width: min-content;\n",
       "  min-width: 20ex;\n",
       "  max-width: 50ex;\n",
       "  color: var(--sklearn-color-text);\n",
       "  box-shadow: 2pt 2pt 4pt #999;\n",
       "  /* unfitted */\n",
       "  background: var(--sklearn-color-unfitted-level-0);\n",
       "  border: .5pt solid var(--sklearn-color-unfitted-level-3);\n",
       "}\n",
       "\n",
       ".sk-estimator-doc-link.fitted span {\n",
       "  /* fitted */\n",
       "  background: var(--sklearn-color-fitted-level-0);\n",
       "  border: var(--sklearn-color-fitted-level-3);\n",
       "}\n",
       "\n",
       ".sk-estimator-doc-link:hover span {\n",
       "  display: block;\n",
       "}\n",
       "\n",
       "/* \"?\"-specific style due to the `<a>` HTML tag */\n",
       "\n",
       "#sk-container-id-2 a.estimator_doc_link {\n",
       "  float: right;\n",
       "  font-size: 1rem;\n",
       "  line-height: 1em;\n",
       "  font-family: monospace;\n",
       "  background-color: var(--sklearn-color-background);\n",
       "  border-radius: 1rem;\n",
       "  height: 1rem;\n",
       "  width: 1rem;\n",
       "  text-decoration: none;\n",
       "  /* unfitted */\n",
       "  color: var(--sklearn-color-unfitted-level-1);\n",
       "  border: var(--sklearn-color-unfitted-level-1) 1pt solid;\n",
       "}\n",
       "\n",
       "#sk-container-id-2 a.estimator_doc_link.fitted {\n",
       "  /* fitted */\n",
       "  border: var(--sklearn-color-fitted-level-1) 1pt solid;\n",
       "  color: var(--sklearn-color-fitted-level-1);\n",
       "}\n",
       "\n",
       "/* On hover */\n",
       "#sk-container-id-2 a.estimator_doc_link:hover {\n",
       "  /* unfitted */\n",
       "  background-color: var(--sklearn-color-unfitted-level-3);\n",
       "  color: var(--sklearn-color-background);\n",
       "  text-decoration: none;\n",
       "}\n",
       "\n",
       "#sk-container-id-2 a.estimator_doc_link.fitted:hover {\n",
       "  /* fitted */\n",
       "  background-color: var(--sklearn-color-fitted-level-3);\n",
       "}\n",
       "</style><div id=\"sk-container-id-2\" class=\"sk-top-container\"><div class=\"sk-text-repr-fallback\"><pre>DecisionTreeClassifier(class_weight=&#x27;balanced&#x27;, criterion=&#x27;entropy&#x27;,\n",
       "                       random_state=123)</pre><b>In a Jupyter environment, please rerun this cell to show the HTML representation or trust the notebook. <br />On GitHub, the HTML representation is unable to render, please try loading this page with nbviewer.org.</b></div><div class=\"sk-container\" hidden><div class=\"sk-item\"><div class=\"sk-estimator fitted sk-toggleable\"><input class=\"sk-toggleable__control sk-hidden--visually\" id=\"sk-estimator-id-2\" type=\"checkbox\" checked><label for=\"sk-estimator-id-2\" class=\"sk-toggleable__label fitted sk-toggleable__label-arrow fitted\">&nbsp;&nbsp;DecisionTreeClassifier<a class=\"sk-estimator-doc-link fitted\" rel=\"noreferrer\" target=\"_blank\" href=\"https://scikit-learn.org/1.5/modules/generated/sklearn.tree.DecisionTreeClassifier.html\">?<span>Documentation for DecisionTreeClassifier</span></a><span class=\"sk-estimator-doc-link fitted\">i<span>Fitted</span></span></label><div class=\"sk-toggleable__content fitted\"><pre>DecisionTreeClassifier(class_weight=&#x27;balanced&#x27;, criterion=&#x27;entropy&#x27;,\n",
       "                       random_state=123)</pre></div> </div></div></div></div>"
      ],
      "text/plain": [
       "DecisionTreeClassifier(class_weight='balanced', criterion='entropy',\n",
       "                       random_state=123)"
      ]
     },
     "execution_count": 26,
     "metadata": {},
     "output_type": "execute_result"
    }
   ],
   "source": [
    "modelo_final = DecisionTreeClassifier(\n",
    "\tclass_weight = \"balanced\",\n",
    "\t**best_params_final,\n",
    "\tmin_samples_split = 2,\n",
    "\tmin_samples_leaf = 1,\n",
    "\trandom_state = semilla\n",
    ")\n",
    "\n",
    "# Lo entrenamos ahora con todos los datos de los que disponemos\n",
    "modelo_final.fit(X, y)"
   ]
  },
  {
   "cell_type": "markdown",
   "id": "f1844d97",
   "metadata": {},
   "source": [
    "Representamos el árbol final gráficamente:"
   ]
  },
  {
   "cell_type": "code",
   "execution_count": 27,
   "id": "79c569ee",
   "metadata": {},
   "outputs": [
    {
     "data": {
      "image/png": "[encoded data removed]",
      "text/plain": [
       "<Figure size 2000x800 with 1 Axes>"
      ]
     },
     "metadata": {},
     "output_type": "display_data"
    }
   ],
   "source": [
    "fig, ax = plt.subplots(figsize=(20, 8))\n",
    "plot = plot_tree(\n",
    "            decision_tree = modelo_final,\n",
    "            feature_names = X.columns.tolist(),\n",
    "            filled        = True,\n",
    "            impurity      = False,\n",
    "            fontsize      = 7,\n",
    "            ax            = ax\n",
    "       )"
   ]
  },
  {
   "cell_type": "markdown",
   "id": "d54a298e",
   "metadata": {},
   "source": [
    "Al representar gráficamente el árbol, podemos ver que, efectivamente, parece estar bastante subajustado (como evidenciaban los resultados de la evaluación numérica), aunque con tan pocos datos, no tendría sentido obtener un árbol más denso."
   ]
  },
  {
   "cell_type": "markdown",
   "id": "8f63db1e",
   "metadata": {},
   "source": [
    "Podemos completar la obtención de métricas representando la matriz de confusión, donde veremos exactamente los aciertos y fallos de este modelo:"
   ]
  },
  {
   "cell_type": "code",
   "execution_count": 28,
   "id": "ef2b769d",
   "metadata": {},
   "outputs": [
    {
     "name": "stdout",
     "output_type": "stream",
     "text": [
      "Matriz de confusión global: \n"
     ]
    },
    {
     "data": {
      "text/plain": [
       "<sklearn.metrics._plot.confusion_matrix.ConfusionMatrixDisplay at 0x746dd25f7710>"
      ]
     },
     "execution_count": 28,
     "metadata": {},
     "output_type": "execute_result"
    },
    {
     "data": {
      "image/png": "[encoded data removed]",
      "text/plain": [
       "<Figure size 640x480 with 2 Axes>"
      ]
     },
     "metadata": {},
     "output_type": "display_data"
    }
   ],
   "source": [
    "matriz = confusion_matrix(y_true, y_pred)\n",
    "print(\"Matriz de confusión global: \")\n",
    "disp = ConfusionMatrixDisplay(confusion_matrix=matriz)\n",
    "disp.plot()"
   ]
  },
  {
   "cell_type": "markdown",
   "id": "23443870",
   "metadata": {},
   "source": [
    "Podemos observar lo que habíamos adelantado al estudiar las medidas. El modelo parece tener un rendimiento decente al predecir los días que NO se debe subir por la niebla, pero no parece ser muy fiable prediciendo los días que SÍ se podría subir. Es decir, tiene un sesgo hacia la clase negativa, debido a que la mayoría de positivos reales los clasifica como negativos. No parece ser muy útil para indicar cuándo subir."
   ]
  },
  {
   "cell_type": "markdown",
   "id": "ccb5584c",
   "metadata": {},
   "source": [
    "## Predicciones sobre datos nuevos y probabilidades"
   ]
  },
  {
   "cell_type": "markdown",
   "id": "e92f5820",
   "metadata": {},
   "source": [
    "A pesar de que hemos visto que el modelo no es fiable a la hora de predecir si se puede subir o no a los lagos, no viene mal realizar la predicción sobre los datos reales de los cuales no tenemos etiquetas, a ver cómo clasifica a cada uno. En este caso, como aún no tenemos información de los días que vamos a tratar, usaremos el sentido común para ver si la predicción tiene sentido. Además, nos fijaremos en la probabilidad de la asignación a una clase u otra, de forma que si es cercana a 0.5, la predicción no será muy fiable (habrá sido más arbitraria, y no porque el modelo pueda asegurar la pertenencia de la instancia a esa clase)."
   ]
  },
  {
   "cell_type": "markdown",
   "id": "c1c0aa80",
   "metadata": {},
   "source": [
    "Antes de realizar las predicciones, debemos coger el dataframe con los nuevos datos y reindexarlo para que tenga las mismas columnas que el que hemos usado para el entrenamiento. "
   ]
  },
  {
   "cell_type": "code",
   "execution_count": 29,
   "id": "faa600ab",
   "metadata": {},
   "outputs": [],
   "source": [
    "# Reindexar las columnas del nuevo dataset para que coincidan con las del modelo\n",
    "X_nuevo_reindexado = datos_sin_etiquetar.reindex(columns=X.columns, fill_value=False)"
   ]
  },
  {
   "cell_type": "markdown",
   "id": "ff2e5c29",
   "metadata": {},
   "source": [
    "Hecho esto, ya podemos obtener las probabilidades de las predicciones."
   ]
  },
  {
   "cell_type": "code",
   "execution_count": 30,
   "id": "9a4fae4e",
   "metadata": {},
   "outputs": [
    {
     "data": {
      "text/plain": [
       "array([[1., 0.],\n",
       "       [0., 1.],\n",
       "       [0., 1.],\n",
       "       [0., 1.]])"
      ]
     },
     "execution_count": 30,
     "metadata": {},
     "output_type": "execute_result"
    }
   ],
   "source": [
    "predicciones = modelo_final.predict_proba(X_nuevo_reindexado)\n",
    "predicciones"
   ]
  },
  {
   "cell_type": "markdown",
   "id": "75af974c",
   "metadata": {},
   "source": [
    "Vemos que las probabilidades de predicción son 1 en todas, lo cual puede hacernos sospechar del funcionamiento del modelo. En teoría, esto implicaría sobreajuste, pero hemos estudiado que el modelo claramente no sobreajusta, sino que tiende más a subajustar. \n",
    "\n",
    "La explicación que hay detrás de este fenómeno puede ser que los nuevos datos se parecen demasiado a los que hemos empleado para entrenar el modelo, por lo que este de alguna manera \"los conoce\" y está muy seguro de la clase a la que pertenecen. Esto no implica que la predicción sea correcta ni que el modelo sea bueno con estos nuevos datos. De hecho, no podemos concluir si es bueno dado que, aunque los datos son nuevos, como se parecen a los de entrenamiento, no hay suficiente variedad para someter al modelo a pruebas en otros contextos."
   ]
  },
  {
   "cell_type": "markdown",
   "id": "9daea7b6",
   "metadata": {},
   "source": [
    "Para ver con qué valor del target se corresponde cada columna, hacemos:"
   ]
  },
  {
   "cell_type": "code",
   "execution_count": 31,
   "id": "264d015d",
   "metadata": {},
   "outputs": [
    {
     "data": {
      "text/plain": [
       "array(['NO', 'SI'], dtype=object)"
      ]
     },
     "execution_count": 31,
     "metadata": {},
     "output_type": "execute_result"
    }
   ],
   "source": [
    "modelo_final.classes_"
   ]
  },
  {
   "cell_type": "markdown",
   "id": "1e4195d6",
   "metadata": {},
   "source": [
    "Vemos que la primera es `SUBIR=NO`, y la segunda es la positiva. Por tanto, de los 4 datos, se predeciría que no se debe subir en el primero, y en los otros sí se podría subir. Si vemos los datos:"
   ]
  },
  {
   "cell_type": "code",
   "execution_count": 32,
   "id": "bb358965",
   "metadata": {},
   "outputs": [
    {
     "data": {
      "text/html": [
       "<div>\n",
       "<style scoped>\n",
       "    .dataframe tbody tr th:only-of-type {\n",
       "        vertical-align: middle;\n",
       "    }\n",
       "\n",
       "    .dataframe tbody tr th {\n",
       "        vertical-align: top;\n",
       "    }\n",
       "\n",
       "    .dataframe thead th {\n",
       "        text-align: right;\n",
       "    }\n",
       "</style>\n",
       "<table border=\"1\" class=\"dataframe\">\n",
       "  <thead>\n",
       "    <tr style=\"text-align: right;\">\n",
       "      <th></th>\n",
       "      <th>prec</th>\n",
       "      <th>tmin</th>\n",
       "      <th>tmax</th>\n",
       "      <th>velmedia</th>\n",
       "      <th>hrMedia</th>\n",
       "      <th>hrMax</th>\n",
       "      <th>hrMin</th>\n",
       "      <th>altonubes_low</th>\n",
       "      <th>altonubes_nan</th>\n",
       "      <th>nubosidad_moderada</th>\n",
       "      <th>nubosidad_nan</th>\n",
       "      <th>lluvia_nan</th>\n",
       "      <th>viento_nan</th>\n",
       "    </tr>\n",
       "  </thead>\n",
       "  <tbody>\n",
       "    <tr>\n",
       "      <th>0</th>\n",
       "      <td>0.0</td>\n",
       "      <td>14.0</td>\n",
       "      <td>23.0</td>\n",
       "      <td>0.0</td>\n",
       "      <td>77.5</td>\n",
       "      <td>90.0</td>\n",
       "      <td>60.0</td>\n",
       "      <td>True</td>\n",
       "      <td>False</td>\n",
       "      <td>False</td>\n",
       "      <td>False</td>\n",
       "      <td>False</td>\n",
       "      <td>False</td>\n",
       "    </tr>\n",
       "    <tr>\n",
       "      <th>1</th>\n",
       "      <td>0.0</td>\n",
       "      <td>11.0</td>\n",
       "      <td>25.0</td>\n",
       "      <td>10.0</td>\n",
       "      <td>80.0</td>\n",
       "      <td>100.0</td>\n",
       "      <td>60.0</td>\n",
       "      <td>True</td>\n",
       "      <td>False</td>\n",
       "      <td>True</td>\n",
       "      <td>False</td>\n",
       "      <td>False</td>\n",
       "      <td>False</td>\n",
       "    </tr>\n",
       "    <tr>\n",
       "      <th>2</th>\n",
       "      <td>85.0</td>\n",
       "      <td>12.0</td>\n",
       "      <td>26.0</td>\n",
       "      <td>10.0</td>\n",
       "      <td>0.0</td>\n",
       "      <td>100.0</td>\n",
       "      <td>50.0</td>\n",
       "      <td>False</td>\n",
       "      <td>False</td>\n",
       "      <td>True</td>\n",
       "      <td>False</td>\n",
       "      <td>False</td>\n",
       "      <td>False</td>\n",
       "    </tr>\n",
       "    <tr>\n",
       "      <th>3</th>\n",
       "      <td>90.0</td>\n",
       "      <td>15.0</td>\n",
       "      <td>25.0</td>\n",
       "      <td>10.0</td>\n",
       "      <td>0.0</td>\n",
       "      <td>90.0</td>\n",
       "      <td>55.0</td>\n",
       "      <td>False</td>\n",
       "      <td>False</td>\n",
       "      <td>True</td>\n",
       "      <td>False</td>\n",
       "      <td>False</td>\n",
       "      <td>True</td>\n",
       "    </tr>\n",
       "  </tbody>\n",
       "</table>\n",
       "</div>"
      ],
      "text/plain": [
       "   prec  tmin  tmax  velmedia  hrMedia  hrMax  hrMin  altonubes_low  \\\n",
       "0   0.0  14.0  23.0       0.0     77.5   90.0   60.0           True   \n",
       "1   0.0  11.0  25.0      10.0     80.0  100.0   60.0           True   \n",
       "2  85.0  12.0  26.0      10.0      0.0  100.0   50.0          False   \n",
       "3  90.0  15.0  25.0      10.0      0.0   90.0   55.0          False   \n",
       "\n",
       "   altonubes_nan  nubosidad_moderada  nubosidad_nan  lluvia_nan  viento_nan  \n",
       "0          False               False          False       False       False  \n",
       "1          False                True          False       False       False  \n",
       "2          False                True          False       False       False  \n",
       "3          False                True          False       False        True  "
      ]
     },
     "execution_count": 32,
     "metadata": {},
     "output_type": "execute_result"
    }
   ],
   "source": [
    "datos_sin_etiquetar"
   ]
  },
  {
   "cell_type": "markdown",
   "id": "8ae76340",
   "metadata": {},
   "source": [
    "Vemos que la predicción puede tener sentido, dado que en el primer día, hay nubosidad baja que sería abundante, por lo que habría niebla casi asegurada. En el segundo, por ejemplo, habría también nubes bajas, pero estas serían moderadas, lo cual puede hacer que el día sea propicio para subir. Algo similar ocurre con los otros dos."
   ]
  },
  {
   "cell_type": "markdown",
   "id": "a18fd885",
   "metadata": {},
   "source": [
    "En conclusión, aunque no podemos fiarnos exactamente de las predicciones de este modelo debido a los resultados desfavorables en la evaluación del rendimiento, podemos ver que, para los datos de previsiones del tiempo, que no suelen variar mucho, puede llegar a dar predicciones razonables. "
   ]
  }
 ],
 "metadata": {
  "kernelspec": {
   "display_name": "3.11.9",
   "language": "python",
   "name": "python3"
  },
  "language_info": {
   "codemirror_mode": {
    "name": "ipython",
    "version": 3
   },
   "file_extension": ".py",
   "mimetype": "text/x-python",
   "name": "python",
   "nbconvert_exporter": "python",
   "pygments_lexer": "ipython3",
   "version": "3.11.9"
  }
 },
 "nbformat": 4,
 "nbformat_minor": 5
}
