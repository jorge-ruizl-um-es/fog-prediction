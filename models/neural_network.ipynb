{
 "cells": [
  {
   "cell_type": "markdown",
   "id": "e90afba4",
   "metadata": {},
   "source": [
    "# Entrenamiento y prueba de un modelo clasificador basado en redes neuronales sencillas"
   ]
  },
  {
   "cell_type": "markdown",
   "id": "dae525b2",
   "metadata": {},
   "source": [
    "Si se ha realizado el notebook del árbol de decisión (cosa que se recomienda hacer antes de estudiar este), se habrá visto que el modelo obtenido no es realmente efectivo para el problema que enfrentamos. No nos permite hacer predicciones fiables sobre si es recomendable subir o no a los Lagos de Covadonga. \n",
    "\n",
    "Es por ello que vamos a probar con un modelo algo más complejo, dado que el anterior modelo nos salía algo subajustado debido a la escasa cantidad de datos. Aún así, como el problema es simple, tendremos que mantener un equilibrio en la complejidad. Es por ello que vamos a probar con una red neuronal no muy densa, que nos permita obtener mejores predicciones que los árboles de decisión, teniendo cuidado de que no se produzca sobreajuste.\n",
    "\n",
    "Para el planteamiento de un modelo con redes neuronales, emplearemos la librería `scikit-learn` usada antes, pero también introduciremos la librería `keras` para hacer lo mismo de otra forma, con fines educativos.\n",
    "\n",
    "Como nos encontramos el mismo problema que antes en la división del dataset tan pequeño en *training* y *test*, procuraremos emplear siempre que podamos técnicas de validación cruzada."
   ]
  },
  {
   "cell_type": "markdown",
   "id": "5e8db1a4",
   "metadata": {},
   "source": [
    "## Paquetes"
   ]
  },
  {
   "cell_type": "code",
   "execution_count": null,
   "id": "a68a160e",
   "metadata": {},
   "outputs": [],
   "source": [
    "import pandas as pd\n",
    "import numpy as np\n",
    "import matplotlib.pyplot as plt\n",
    "import os\n",
    "from sklearn.model_selection import LeaveOneOut"
   ]
  },
  {
   "cell_type": "markdown",
   "id": "eebd2bdc",
   "metadata": {},
   "source": [
    "## Importación de datos y tratamiento"
   ]
  },
  {
   "cell_type": "markdown",
   "id": "d316ca02",
   "metadata": {},
   "source": [
    "Vamos a seguir el mismo procedimiento que en el otro notebook. Primero, descargamos los datos de los CSV's generados con las llamadas a la API de la AEMET."
   ]
  },
  {
   "cell_type": "code",
   "execution_count": null,
   "id": "3a71c463",
   "metadata": {},
   "outputs": [],
   "source": [
    "semilla = 123\n",
    "np.random.seed(semilla)\n",
    "base_dir = os.path.dirname(os.path.abspath(os.getcwd()))\n",
    "\n",
    "datos = pd.read_csv(os.path.join(base_dir, \"data\", \"processed\", \"data.csv\"), sep=\";\")\n",
    "datos_sin_etiquetar = pd.read_csv(os.path.join(base_dir, \"data\", \"processed\", \"data_sin_etiquetar.csv\"), sep=\";\")"
   ]
  },
  {
   "cell_type": "markdown",
   "id": "dd6866af",
   "metadata": {},
   "source": [
    "Una vez cargados, debemos convertir las variables cualitativas a *dummies* para asegurar un correcto entrenamiento y uso del modelo. Lo haremos con la función `get_dummies` de `pandas`.\n",
    "\n",
    "Primero, extraemos las variable categóricas de los dataset:"
   ]
  },
  {
   "cell_type": "code",
   "execution_count": null,
   "id": "74ef5d49",
   "metadata": {},
   "outputs": [
    {
     "data": {
      "text/plain": [
       "Index(['fecha', 'altonubes', 'nubosidad', 'lluvia', 'viento', 'SUBIR'], dtype='object')"
      ]
     },
     "metadata": {},
     "output_type": "display_data"
    }
   ],
   "source": [
    "categoricas = datos.select_dtypes(include= [\"object\", \"category\"]).columns\n",
    "categoricas_sin_etiquetar = datos_sin_etiquetar.select_dtypes(include= [\"object\", \"category\"]).columns\n",
    "categoricas"
   ]
  },
  {
   "cell_type": "markdown",
   "id": "4459ff1b",
   "metadata": {},
   "source": [
    "No vamos a tener en cuenta las variables \"fecha\", dado que esta es el índice (clave primaria que identifica cada dato); ni \"SUBIR\", dado que es el target a predecir y no haría falta transformarlo. De hecho, la variable \"fecha\" podrá eliminarse por completo del dataset, dado que no influye a la hora de realizar las predicciones."
   ]
  },
  {
   "cell_type": "code",
   "execution_count": null,
   "id": "0376722a",
   "metadata": {},
   "outputs": [
    {
     "data": {
      "text/plain": [
       "Index(['altonubes', 'nubosidad', 'lluvia', 'viento'], dtype='object')"
      ]
     },
     "metadata": {},
     "output_type": "display_data"
    }
   ],
   "source": [
    "categoricas = categoricas.delete([0, 5])\n",
    "datos.drop(\"fecha\", axis=1, inplace=True)\n",
    "categoricas"
   ]
  },
  {
   "cell_type": "markdown",
   "id": "4ee6331d",
   "metadata": {},
   "source": [
    "De las \"sin etiquetar\", vamos a eliminar únicamente la fecha."
   ]
  },
  {
   "cell_type": "code",
   "execution_count": null,
   "id": "e178ddfd",
   "metadata": {},
   "outputs": [
    {
     "data": {
      "text/plain": [
       "Index(['altonubes', 'nubosidad', 'lluvia', 'viento'], dtype='object')"
      ]
     },
     "metadata": {},
     "output_type": "display_data"
    }
   ],
   "source": [
    "datos_sin_etiquetar.drop(\"fecha\", axis=1, inplace=True)\n",
    "categoricas_sin_etiquetar = categoricas_sin_etiquetar.delete(0)\n",
    "categoricas_sin_etiquetar"
   ]
  },
  {
   "cell_type": "markdown",
   "id": "24d7ec9f",
   "metadata": {},
   "source": [
    "Transformamos a dummies y eliminamos las variables originales:"
   ]
  },
  {
   "cell_type": "code",
   "execution_count": null,
   "id": "69a78086",
   "metadata": {},
   "outputs": [
    {
     "data": {
      "text/html": [
       "<div>\n",
       "<style scoped>\n",
       "    .dataframe tbody tr th:only-of-type {\n",
       "        vertical-align: middle;\n",
       "    }\n",
       "\n",
       "    .dataframe tbody tr th {\n",
       "        vertical-align: top;\n",
       "    }\n",
       "\n",
       "    .dataframe thead th {\n",
       "        text-align: right;\n",
       "    }\n",
       "</style>\n",
       "<table border=\"1\" class=\"dataframe\">\n",
       "  <thead>\n",
       "    <tr style=\"text-align: right;\">\n",
       "      <th></th>\n",
       "      <th>prec</th>\n",
       "      <th>tmin</th>\n",
       "      <th>tmax</th>\n",
       "      <th>velmedia</th>\n",
       "      <th>hrMedia</th>\n",
       "      <th>hrMax</th>\n",
       "      <th>hrMin</th>\n",
       "      <th>SUBIR</th>\n",
       "      <th>altonubes_mid</th>\n",
       "      <th>altonubes_nan</th>\n",
       "      <th>nubosidad_escasa</th>\n",
       "      <th>nubosidad_media</th>\n",
       "      <th>nubosidad_nan</th>\n",
       "      <th>lluvia_no</th>\n",
       "      <th>lluvia_posible</th>\n",
       "      <th>lluvia_nan</th>\n",
       "      <th>viento_fuerte</th>\n",
       "      <th>viento_moderado</th>\n",
       "      <th>viento_nan</th>\n",
       "    </tr>\n",
       "  </thead>\n",
       "  <tbody>\n",
       "    <tr>\n",
       "      <th>0</th>\n",
       "      <td>0.0</td>\n",
       "      <td>11.9</td>\n",
       "      <td>20.4</td>\n",
       "      <td>1.4</td>\n",
       "      <td>99.0</td>\n",
       "      <td>100.0</td>\n",
       "      <td>61.0</td>\n",
       "      <td>NO</td>\n",
       "      <td>False</td>\n",
       "      <td>False</td>\n",
       "      <td>False</td>\n",
       "      <td>False</td>\n",
       "      <td>False</td>\n",
       "      <td>False</td>\n",
       "      <td>True</td>\n",
       "      <td>False</td>\n",
       "      <td>False</td>\n",
       "      <td>True</td>\n",
       "      <td>False</td>\n",
       "    </tr>\n",
       "    <tr>\n",
       "      <th>1</th>\n",
       "      <td>2.0</td>\n",
       "      <td>11.7</td>\n",
       "      <td>25.0</td>\n",
       "      <td>2.5</td>\n",
       "      <td>64.0</td>\n",
       "      <td>100.0</td>\n",
       "      <td>40.0</td>\n",
       "      <td>NO</td>\n",
       "      <td>False</td>\n",
       "      <td>True</td>\n",
       "      <td>False</td>\n",
       "      <td>False</td>\n",
       "      <td>True</td>\n",
       "      <td>False</td>\n",
       "      <td>False</td>\n",
       "      <td>True</td>\n",
       "      <td>False</td>\n",
       "      <td>False</td>\n",
       "      <td>True</td>\n",
       "    </tr>\n",
       "    <tr>\n",
       "      <th>2</th>\n",
       "      <td>23.8</td>\n",
       "      <td>13.7</td>\n",
       "      <td>26.6</td>\n",
       "      <td>5.6</td>\n",
       "      <td>54.0</td>\n",
       "      <td>94.0</td>\n",
       "      <td>34.0</td>\n",
       "      <td>SI</td>\n",
       "      <td>True</td>\n",
       "      <td>False</td>\n",
       "      <td>True</td>\n",
       "      <td>False</td>\n",
       "      <td>False</td>\n",
       "      <td>False</td>\n",
       "      <td>False</td>\n",
       "      <td>False</td>\n",
       "      <td>True</td>\n",
       "      <td>False</td>\n",
       "      <td>False</td>\n",
       "    </tr>\n",
       "    <tr>\n",
       "      <th>3</th>\n",
       "      <td>2.0</td>\n",
       "      <td>11.5</td>\n",
       "      <td>19.9</td>\n",
       "      <td>3.6</td>\n",
       "      <td>86.0</td>\n",
       "      <td>100.0</td>\n",
       "      <td>50.0</td>\n",
       "      <td>SI</td>\n",
       "      <td>False</td>\n",
       "      <td>True</td>\n",
       "      <td>False</td>\n",
       "      <td>False</td>\n",
       "      <td>False</td>\n",
       "      <td>False</td>\n",
       "      <td>False</td>\n",
       "      <td>False</td>\n",
       "      <td>False</td>\n",
       "      <td>True</td>\n",
       "      <td>False</td>\n",
       "    </tr>\n",
       "    <tr>\n",
       "      <th>4</th>\n",
       "      <td>0.0</td>\n",
       "      <td>11.4</td>\n",
       "      <td>18.2</td>\n",
       "      <td>1.4</td>\n",
       "      <td>95.0</td>\n",
       "      <td>100.0</td>\n",
       "      <td>80.0</td>\n",
       "      <td>NO</td>\n",
       "      <td>False</td>\n",
       "      <td>False</td>\n",
       "      <td>True</td>\n",
       "      <td>False</td>\n",
       "      <td>False</td>\n",
       "      <td>True</td>\n",
       "      <td>False</td>\n",
       "      <td>False</td>\n",
       "      <td>False</td>\n",
       "      <td>False</td>\n",
       "      <td>False</td>\n",
       "    </tr>\n",
       "  </tbody>\n",
       "</table>\n",
       "</div>"
      ],
      "text/plain": [
       "   prec  tmin  tmax  ...  viento_fuerte  viento_moderado  viento_nan\n",
       "0   0.0  11.9  20.4  ...          False             True       False\n",
       "1   2.0  11.7  25.0  ...          False            False        True\n",
       "2  23.8  13.7  26.6  ...           True            False       False\n",
       "3   2.0  11.5  19.9  ...          False             True       False\n",
       "4   0.0  11.4  18.2  ...          False            False       False\n",
       "\n",
       "[5 rows x 19 columns]"
      ]
     },
     "metadata": {},
     "output_type": "display_data"
    }
   ],
   "source": [
    "categoricas_dummies = pd.get_dummies(datos[categoricas], drop_first = True, dummy_na = True)\n",
    "categoricas_sin_etiquetar_dummies = pd.get_dummies(datos_sin_etiquetar[categoricas_sin_etiquetar], drop_first = True, dummy_na = True)\n",
    "\n",
    "datos.drop(categoricas, axis = 1, inplace = True)   # inplace para que se elimine sobre el dataset\n",
    "datos_sin_etiquetar = datos_sin_etiquetar.reindex(columns=datos.drop(columns=\"SUBIR\").columns, fill_value=0)\n",
    "\n",
    "# Tras eliminar los atributos originales, concatenamos los nuevos atributos creados para las variables categóricas.\n",
    "datos = pd.concat([datos, categoricas_dummies], axis = 1)\n",
    "datos_sin_etiquetar = pd.concat([datos_sin_etiquetar, categoricas_sin_etiquetar_dummies], axis = 1)\n",
    "\n",
    "# Mostramos cómo queda tras este proceso\n",
    "datos.head()"
   ]
  }
 ],
 "metadata": {
  "kernelspec": {
   "display_name": "3.11.9",
   "language": "python",
   "name": "python3"
  },
  "language_info": {
   "name": "python",
   "version": "3.11.9"
  }
 },
 "nbformat": 4,
 "nbformat_minor": 5
}
